{
 "cells": [
  {
   "cell_type": "markdown",
   "metadata": {},
   "source": [
    "# Kmeans-clustering-for-depression-patients"
   ]
  },
  {
   "cell_type": "code",
   "execution_count": 1,
   "metadata": {},
   "outputs": [],
   "source": [
    "import pandas as pd \n",
    "import numpy as np\n",
    "import seaborn as sns\n",
    "import matplotlib as mpl\n",
    "import matplotlib.pyplot as plt"
   ]
  },
  {
   "cell_type": "code",
   "execution_count": 2,
   "metadata": {},
   "outputs": [],
   "source": [
    "# dataframe이 잘리지 않고 다 보이도록 하는 옵션\n",
    "pd.options.display.max_columns = 100"
   ]
  },
  {
   "cell_type": "code",
   "execution_count": 3,
   "metadata": {},
   "outputs": [],
   "source": [
    "# 글씨체 선명하게 출력\n",
    "from IPython.display import set_matplotlib_formats\n",
    "\n",
    "mpl.rc('font', family = 'Malgun Gothic')\n",
    "mpl.rc('axes', unicode_minus = True)\n",
    "set_matplotlib_formats('retina')\n",
    "plt.rcParams['font.family'] = 'Malgun Gothic'"
   ]
  },
  {
   "cell_type": "markdown",
   "metadata": {},
   "source": [
    "## 1. Load Data"
   ]
  },
  {
   "cell_type": "code",
   "execution_count": 4,
   "metadata": {},
   "outputs": [
    {
     "name": "stdout",
     "output_type": "stream",
     "text": [
      "(7380, 30)\n"
     ]
    },
    {
     "data": {
      "text/html": [
       "<div>\n",
       "<style scoped>\n",
       "    .dataframe tbody tr th:only-of-type {\n",
       "        vertical-align: middle;\n",
       "    }\n",
       "\n",
       "    .dataframe tbody tr th {\n",
       "        vertical-align: top;\n",
       "    }\n",
       "\n",
       "    .dataframe thead th {\n",
       "        text-align: right;\n",
       "    }\n",
       "</style>\n",
       "<table border=\"1\" class=\"dataframe\">\n",
       "  <thead>\n",
       "    <tr style=\"text-align: right;\">\n",
       "      <th></th>\n",
       "      <th>ID</th>\n",
       "      <th>age</th>\n",
       "      <th>성별</th>\n",
       "      <th>가구원수</th>\n",
       "      <th>기초생활수급여부</th>\n",
       "      <th>주택형태</th>\n",
       "      <th>월평균가구총소득(만원)</th>\n",
       "      <th>결혼여부</th>\n",
       "      <th>결혼상태</th>\n",
       "      <th>주관적건강상태</th>\n",
       "      <th>2주내몸이상여부(주관적)</th>\n",
       "      <th>고혈압진단여부</th>\n",
       "      <th>이상지지혈증진단여부</th>\n",
       "      <th>우울증진단여부</th>\n",
       "      <th>우울증진단시기</th>\n",
       "      <th>우을중현재유병여부</th>\n",
       "      <th>우울증치료</th>\n",
       "      <th>활동제한여부</th>\n",
       "      <th>활동제한사유</th>\n",
       "      <th>불안우울설문</th>\n",
       "      <th>경제활동상태</th>\n",
       "      <th>미취업사유</th>\n",
       "      <th>하루평균수면시간</th>\n",
       "      <th>평소스트레스인지정도</th>\n",
       "      <th>2주이상우울감여부</th>\n",
       "      <th>1년간정신문제상담</th>\n",
       "      <th>1년간자살생각여부</th>\n",
       "      <th>1년간자살계획여부</th>\n",
       "      <th>1년간자살시도여부</th>\n",
       "      <th>당뇨병진단여부</th>\n",
       "    </tr>\n",
       "  </thead>\n",
       "  <tbody>\n",
       "    <tr>\n",
       "      <th>0</th>\n",
       "      <td>A701229702</td>\n",
       "      <td>43</td>\n",
       "      <td>여성</td>\n",
       "      <td>4</td>\n",
       "      <td>수급경험없음</td>\n",
       "      <td>다세대주택</td>\n",
       "      <td>275.000000</td>\n",
       "      <td>기혼</td>\n",
       "      <td>동거</td>\n",
       "      <td>나쁨</td>\n",
       "      <td>예</td>\n",
       "      <td>없음</td>\n",
       "      <td>없음</td>\n",
       "      <td>없음</td>\n",
       "      <td>NaN</td>\n",
       "      <td>비해당(청소년/소아)</td>\n",
       "      <td>비해당(청소년/소아)</td>\n",
       "      <td>2.0</td>\n",
       "      <td>비해당</td>\n",
       "      <td>불안하거나우울하지않음</td>\n",
       "      <td>취업자</td>\n",
       "      <td>비해당(청소년)</td>\n",
       "      <td>7.0</td>\n",
       "      <td>조금느낌</td>\n",
       "      <td>아니오</td>\n",
       "      <td>아니오</td>\n",
       "      <td>아니오</td>\n",
       "      <td>아니오</td>\n",
       "      <td>아니오</td>\n",
       "      <td>없음</td>\n",
       "    </tr>\n",
       "    <tr>\n",
       "      <th>1</th>\n",
       "      <td>A701229704</td>\n",
       "      <td>10</td>\n",
       "      <td>남성</td>\n",
       "      <td>4</td>\n",
       "      <td>수급경험없음</td>\n",
       "      <td>다세대주택</td>\n",
       "      <td>275.000000</td>\n",
       "      <td>미혼</td>\n",
       "      <td>모름</td>\n",
       "      <td>무응답</td>\n",
       "      <td>무응답</td>\n",
       "      <td>무응답</td>\n",
       "      <td>무응답</td>\n",
       "      <td>무응답</td>\n",
       "      <td>NaN</td>\n",
       "      <td>무응답</td>\n",
       "      <td>무응답</td>\n",
       "      <td>NaN</td>\n",
       "      <td>무응답</td>\n",
       "      <td>무응답</td>\n",
       "      <td>무응답</td>\n",
       "      <td>무응답</td>\n",
       "      <td>NaN</td>\n",
       "      <td>무응답</td>\n",
       "      <td>무응답</td>\n",
       "      <td>무응답</td>\n",
       "      <td>무응답</td>\n",
       "      <td>무응답</td>\n",
       "      <td>무응답</td>\n",
       "      <td>무응답</td>\n",
       "    </tr>\n",
       "    <tr>\n",
       "      <th>2</th>\n",
       "      <td>A701241801</td>\n",
       "      <td>61</td>\n",
       "      <td>여성</td>\n",
       "      <td>2</td>\n",
       "      <td>수급경험없음</td>\n",
       "      <td>단독주택</td>\n",
       "      <td>125.000000</td>\n",
       "      <td>기혼</td>\n",
       "      <td>이혼</td>\n",
       "      <td>나쁨</td>\n",
       "      <td>아니오</td>\n",
       "      <td>없음</td>\n",
       "      <td>없음</td>\n",
       "      <td>없음</td>\n",
       "      <td>NaN</td>\n",
       "      <td>비해당(청소년/소아)</td>\n",
       "      <td>비해당(청소년/소아)</td>\n",
       "      <td>2.0</td>\n",
       "      <td>비해당</td>\n",
       "      <td>불안하거나우울하지않음</td>\n",
       "      <td>실업자(비경제인구)</td>\n",
       "      <td>실업/구직</td>\n",
       "      <td>8.0</td>\n",
       "      <td>조금느낌</td>\n",
       "      <td>예</td>\n",
       "      <td>아니오</td>\n",
       "      <td>아니오</td>\n",
       "      <td>아니오</td>\n",
       "      <td>아니오</td>\n",
       "      <td>없음</td>\n",
       "    </tr>\n",
       "    <tr>\n",
       "      <th>3</th>\n",
       "      <td>A701241802</td>\n",
       "      <td>35</td>\n",
       "      <td>남성</td>\n",
       "      <td>2</td>\n",
       "      <td>수급경험없음</td>\n",
       "      <td>단독주택</td>\n",
       "      <td>125.000000</td>\n",
       "      <td>미혼</td>\n",
       "      <td>모름</td>\n",
       "      <td>보통</td>\n",
       "      <td>아니오</td>\n",
       "      <td>없음</td>\n",
       "      <td>없음</td>\n",
       "      <td>없음</td>\n",
       "      <td>NaN</td>\n",
       "      <td>비해당(청소년/소아)</td>\n",
       "      <td>비해당(청소년/소아)</td>\n",
       "      <td>2.0</td>\n",
       "      <td>비해당</td>\n",
       "      <td>불안하거나우울하지않음</td>\n",
       "      <td>취업자</td>\n",
       "      <td>비해당(청소년)</td>\n",
       "      <td>8.0</td>\n",
       "      <td>많이느낌</td>\n",
       "      <td>아니오</td>\n",
       "      <td>아니오</td>\n",
       "      <td>아니오</td>\n",
       "      <td>아니오</td>\n",
       "      <td>아니오</td>\n",
       "      <td>없음</td>\n",
       "    </tr>\n",
       "    <tr>\n",
       "      <th>4</th>\n",
       "      <td>A701261901</td>\n",
       "      <td>20</td>\n",
       "      <td>남성</td>\n",
       "      <td>1</td>\n",
       "      <td>수급경험없음</td>\n",
       "      <td>단독주택</td>\n",
       "      <td>43.333333</td>\n",
       "      <td>미혼</td>\n",
       "      <td>모름</td>\n",
       "      <td>좋음</td>\n",
       "      <td>예</td>\n",
       "      <td>없음</td>\n",
       "      <td>없음</td>\n",
       "      <td>없음</td>\n",
       "      <td>NaN</td>\n",
       "      <td>비해당(청소년/소아)</td>\n",
       "      <td>비해당(청소년/소아)</td>\n",
       "      <td>2.0</td>\n",
       "      <td>비해당</td>\n",
       "      <td>불안하거나우울하지않음</td>\n",
       "      <td>실업자(비경제인구)</td>\n",
       "      <td>학원/학교재학</td>\n",
       "      <td>6.0</td>\n",
       "      <td>많이느낌</td>\n",
       "      <td>아니오</td>\n",
       "      <td>아니오</td>\n",
       "      <td>아니오</td>\n",
       "      <td>아니오</td>\n",
       "      <td>아니오</td>\n",
       "      <td>없음</td>\n",
       "    </tr>\n",
       "  </tbody>\n",
       "</table>\n",
       "</div>"
      ],
      "text/plain": [
       "           ID  age  성별  가구원수 기초생활수급여부   주택형태  월평균가구총소득(만원) 결혼여부 결혼상태 주관적건강상태  \\\n",
       "0  A701229702   43  여성     4   수급경험없음  다세대주택    275.000000   기혼   동거      나쁨   \n",
       "1  A701229704   10  남성     4   수급경험없음  다세대주택    275.000000   미혼   모름     무응답   \n",
       "2  A701241801   61  여성     2   수급경험없음   단독주택    125.000000   기혼   이혼      나쁨   \n",
       "3  A701241802   35  남성     2   수급경험없음   단독주택    125.000000   미혼   모름      보통   \n",
       "4  A701261901   20  남성     1   수급경험없음   단독주택     43.333333   미혼   모름      좋음   \n",
       "\n",
       "  2주내몸이상여부(주관적) 고혈압진단여부 이상지지혈증진단여부 우울증진단여부  우울증진단시기    우을중현재유병여부        우울증치료  \\\n",
       "0             예      없음         없음      없음      NaN  비해당(청소년/소아)  비해당(청소년/소아)   \n",
       "1           무응답     무응답        무응답     무응답      NaN          무응답          무응답   \n",
       "2           아니오      없음         없음      없음      NaN  비해당(청소년/소아)  비해당(청소년/소아)   \n",
       "3           아니오      없음         없음      없음      NaN  비해당(청소년/소아)  비해당(청소년/소아)   \n",
       "4             예      없음         없음      없음      NaN  비해당(청소년/소아)  비해당(청소년/소아)   \n",
       "\n",
       "   활동제한여부 활동제한사유       불안우울설문      경제활동상태     미취업사유  하루평균수면시간 평소스트레스인지정도  \\\n",
       "0     2.0    비해당  불안하거나우울하지않음         취업자  비해당(청소년)       7.0       조금느낌   \n",
       "1     NaN    무응답          무응답         무응답       무응답       NaN        무응답   \n",
       "2     2.0    비해당  불안하거나우울하지않음  실업자(비경제인구)     실업/구직       8.0       조금느낌   \n",
       "3     2.0    비해당  불안하거나우울하지않음         취업자  비해당(청소년)       8.0       많이느낌   \n",
       "4     2.0    비해당  불안하거나우울하지않음  실업자(비경제인구)   학원/학교재학       6.0       많이느낌   \n",
       "\n",
       "  2주이상우울감여부 1년간정신문제상담 1년간자살생각여부 1년간자살계획여부 1년간자살시도여부 당뇨병진단여부  \n",
       "0       아니오       아니오       아니오       아니오       아니오      없음  \n",
       "1       무응답       무응답       무응답       무응답       무응답     무응답  \n",
       "2         예       아니오       아니오       아니오       아니오      없음  \n",
       "3       아니오       아니오       아니오       아니오       아니오      없음  \n",
       "4       아니오       아니오       아니오       아니오       아니오      없음  "
      ]
     },
     "execution_count": 4,
     "metadata": {},
     "output_type": "execute_result"
    }
   ],
   "source": [
    "df1 = pd.read_csv('data3.csv')\n",
    "print(df1.shape)\n",
    "df1.head()"
   ]
  },
  {
   "cell_type": "code",
   "execution_count": 5,
   "metadata": {},
   "outputs": [
    {
     "data": {
      "text/html": [
       "<div>\n",
       "<style scoped>\n",
       "    .dataframe tbody tr th:only-of-type {\n",
       "        vertical-align: middle;\n",
       "    }\n",
       "\n",
       "    .dataframe tbody tr th {\n",
       "        vertical-align: top;\n",
       "    }\n",
       "\n",
       "    .dataframe thead th {\n",
       "        text-align: right;\n",
       "    }\n",
       "</style>\n",
       "<table border=\"1\" class=\"dataframe\">\n",
       "  <thead>\n",
       "    <tr style=\"text-align: right;\">\n",
       "      <th></th>\n",
       "      <th>age</th>\n",
       "      <th>가구원수</th>\n",
       "      <th>월평균가구총소득(만원)</th>\n",
       "      <th>우울증진단시기</th>\n",
       "      <th>활동제한여부</th>\n",
       "      <th>하루평균수면시간</th>\n",
       "    </tr>\n",
       "  </thead>\n",
       "  <tbody>\n",
       "    <tr>\n",
       "      <th>count</th>\n",
       "      <td>7380.000000</td>\n",
       "      <td>7380.000000</td>\n",
       "      <td>7328.000000</td>\n",
       "      <td>250.000000</td>\n",
       "      <td>6904.000000</td>\n",
       "      <td>5931.000000</td>\n",
       "    </tr>\n",
       "    <tr>\n",
       "      <th>mean</th>\n",
       "      <td>43.462331</td>\n",
       "      <td>3.197696</td>\n",
       "      <td>388.995224</td>\n",
       "      <td>47.528000</td>\n",
       "      <td>2.405417</td>\n",
       "      <td>6.762435</td>\n",
       "    </tr>\n",
       "    <tr>\n",
       "      <th>std</th>\n",
       "      <td>22.613010</td>\n",
       "      <td>1.269838</td>\n",
       "      <td>294.535101</td>\n",
       "      <td>15.694921</td>\n",
       "      <td>1.794055</td>\n",
       "      <td>1.395746</td>\n",
       "    </tr>\n",
       "    <tr>\n",
       "      <th>min</th>\n",
       "      <td>1.000000</td>\n",
       "      <td>1.000000</td>\n",
       "      <td>17.000000</td>\n",
       "      <td>14.000000</td>\n",
       "      <td>1.000000</td>\n",
       "      <td>1.000000</td>\n",
       "    </tr>\n",
       "    <tr>\n",
       "      <th>25%</th>\n",
       "      <td>24.000000</td>\n",
       "      <td>2.000000</td>\n",
       "      <td>166.666667</td>\n",
       "      <td>35.000000</td>\n",
       "      <td>2.000000</td>\n",
       "      <td>6.000000</td>\n",
       "    </tr>\n",
       "    <tr>\n",
       "      <th>50%</th>\n",
       "      <td>46.000000</td>\n",
       "      <td>3.000000</td>\n",
       "      <td>330.000000</td>\n",
       "      <td>50.000000</td>\n",
       "      <td>2.000000</td>\n",
       "      <td>7.000000</td>\n",
       "    </tr>\n",
       "    <tr>\n",
       "      <th>75%</th>\n",
       "      <td>62.000000</td>\n",
       "      <td>4.000000</td>\n",
       "      <td>540.000000</td>\n",
       "      <td>59.000000</td>\n",
       "      <td>2.000000</td>\n",
       "      <td>8.000000</td>\n",
       "    </tr>\n",
       "    <tr>\n",
       "      <th>max</th>\n",
       "      <td>80.000000</td>\n",
       "      <td>6.000000</td>\n",
       "      <td>1500.000000</td>\n",
       "      <td>78.000000</td>\n",
       "      <td>9.000000</td>\n",
       "      <td>14.000000</td>\n",
       "    </tr>\n",
       "  </tbody>\n",
       "</table>\n",
       "</div>"
      ],
      "text/plain": [
       "               age         가구원수  월평균가구총소득(만원)     우울증진단시기       활동제한여부  \\\n",
       "count  7380.000000  7380.000000   7328.000000  250.000000  6904.000000   \n",
       "mean     43.462331     3.197696    388.995224   47.528000     2.405417   \n",
       "std      22.613010     1.269838    294.535101   15.694921     1.794055   \n",
       "min       1.000000     1.000000     17.000000   14.000000     1.000000   \n",
       "25%      24.000000     2.000000    166.666667   35.000000     2.000000   \n",
       "50%      46.000000     3.000000    330.000000   50.000000     2.000000   \n",
       "75%      62.000000     4.000000    540.000000   59.000000     2.000000   \n",
       "max      80.000000     6.000000   1500.000000   78.000000     9.000000   \n",
       "\n",
       "          하루평균수면시간  \n",
       "count  5931.000000  \n",
       "mean      6.762435  \n",
       "std       1.395746  \n",
       "min       1.000000  \n",
       "25%       6.000000  \n",
       "50%       7.000000  \n",
       "75%       8.000000  \n",
       "max      14.000000  "
      ]
     },
     "execution_count": 5,
     "metadata": {},
     "output_type": "execute_result"
    }
   ],
   "source": [
    "df1.describe()"
   ]
  },
  {
   "cell_type": "markdown",
   "metadata": {},
   "source": [
    "## 2. Data Preprocessing"
   ]
  },
  {
   "cell_type": "markdown",
   "metadata": {},
   "source": [
    "### Replace missing values"
   ]
  },
  {
   "cell_type": "code",
   "execution_count": 6,
   "metadata": {},
   "outputs": [
    {
     "data": {
      "text/plain": [
       "ID                  0\n",
       "age                 0\n",
       "성별                  0\n",
       "가구원수                0\n",
       "기초생활수급여부            0\n",
       "주택형태                0\n",
       "월평균가구총소득(만원)       52\n",
       "결혼여부                0\n",
       "결혼상태                0\n",
       "주관적건강상태             0\n",
       "2주내몸이상여부(주관적)       0\n",
       "고혈압진단여부             0\n",
       "이상지지혈증진단여부          0\n",
       "우울증진단여부             0\n",
       "우울증진단시기          7130\n",
       "우을중현재유병여부           0\n",
       "우울증치료               0\n",
       "활동제한여부            476\n",
       "활동제한사유              0\n",
       "불안우울설문              0\n",
       "경제활동상태              0\n",
       "미취업사유               0\n",
       "하루평균수면시간         1449\n",
       "평소스트레스인지정도          0\n",
       "2주이상우울감여부           0\n",
       "1년간정신문제상담           0\n",
       "1년간자살생각여부           0\n",
       "1년간자살계획여부           0\n",
       "1년간자살시도여부           0\n",
       "당뇨병진단여부             0\n",
       "dtype: int64"
      ]
     },
     "execution_count": 6,
     "metadata": {},
     "output_type": "execute_result"
    }
   ],
   "source": [
    "df1.isnull().sum()"
   ]
  },
  {
   "cell_type": "markdown",
   "metadata": {},
   "source": [
    "#### 1) 월평균가구총소득(만원) 결측치 처리"
   ]
  },
  {
   "cell_type": "code",
   "execution_count": 7,
   "metadata": {},
   "outputs": [
    {
     "data": {
      "text/plain": [
       "수급경험없음    6795\n",
       "수급경험있음     580\n",
       "무응답          5\n",
       "Name: 기초생활수급여부, dtype: int64"
      ]
     },
     "execution_count": 7,
     "metadata": {},
     "output_type": "execute_result"
    }
   ],
   "source": [
    "df1['기초생활수급여부'].value_counts()"
   ]
  },
  {
   "cell_type": "code",
   "execution_count": 8,
   "metadata": {},
   "outputs": [
    {
     "name": "stdout",
     "output_type": "stream",
     "text": [
      "수급경험없음: 410.14476218685024\n",
      "수급경험있음: 142.54050925911466\n"
     ]
    }
   ],
   "source": [
    "a1 = df1[df1['기초생활수급여부']=='수급경험없음']\n",
    "a2 = df1[df1['기초생활수급여부']=='수급경험있음']\n",
    "print('수급경험없음:', a1['월평균가구총소득(만원)'].mean())\n",
    "print('수급경험있음:', a2['월평균가구총소득(만원)'].mean())"
   ]
  },
  {
   "cell_type": "markdown",
   "metadata": {},
   "source": [
    "기초생활수급여부에 따라 월평균가구총소득 결측치를 해당 평균으로 대체한다."
   ]
  },
  {
   "cell_type": "code",
   "execution_count": 9,
   "metadata": {},
   "outputs": [],
   "source": [
    "df1['월평균가구총소득(만원)'].fillna('nan', inplace=True)"
   ]
  },
  {
   "cell_type": "code",
   "execution_count": 10,
   "metadata": {},
   "outputs": [],
   "source": [
    "for i in range(0, len(df1)) :\n",
    "    if df1.loc[i, '월평균가구총소득(만원)'] == 'nan' :\n",
    "        if df1.loc[i, '기초생활수급여부'] == '수급경험없음' :\n",
    "            df1.loc[i, '월평균가구총소득(만원)'] = 410.144\n",
    "            \n",
    "        elif df1.loc[i, '기초생활수급여부'] == '수급경험있음' :\n",
    "            df1.loc[i, '월평균가구총소득(만원)'] =  142.540\n",
    "            \n",
    "        elif df1.loc[i, '기초생활수급여부'] == '무응답' :\n",
    "            df1.loc[i, '월평균가구총소득(만원)'] = 388.995  # 월평균가구총소득(만원) 변수의 전체 평균\n",
    "\n",
    "    else :\n",
    "        continue"
   ]
  },
  {
   "cell_type": "markdown",
   "metadata": {},
   "source": [
    "#### 2) 우울증진단시기 결측치 처리"
   ]
  },
  {
   "cell_type": "code",
   "execution_count": 11,
   "metadata": {},
   "outputs": [
    {
     "data": {
      "text/plain": [
       "50.0    9\n",
       "35.0    9\n",
       "54.0    9\n",
       "55.0    8\n",
       "58.0    8\n",
       "       ..\n",
       "17.0    1\n",
       "25.0    1\n",
       "46.0    1\n",
       "29.0    1\n",
       "74.0    1\n",
       "Name: 우울증진단시기, Length: 64, dtype: int64"
      ]
     },
     "execution_count": 11,
     "metadata": {},
     "output_type": "execute_result"
    }
   ],
   "source": [
    "df1['우울증진단시기'].value_counts()"
   ]
  },
  {
   "cell_type": "code",
   "execution_count": 12,
   "metadata": {},
   "outputs": [
    {
     "data": {
      "text/html": [
       "<div>\n",
       "<style scoped>\n",
       "    .dataframe tbody tr th:only-of-type {\n",
       "        vertical-align: middle;\n",
       "    }\n",
       "\n",
       "    .dataframe tbody tr th {\n",
       "        vertical-align: top;\n",
       "    }\n",
       "\n",
       "    .dataframe thead th {\n",
       "        text-align: right;\n",
       "    }\n",
       "</style>\n",
       "<table border=\"1\" class=\"dataframe\">\n",
       "  <thead>\n",
       "    <tr style=\"text-align: right;\">\n",
       "      <th></th>\n",
       "      <th>우울증진단여부</th>\n",
       "      <th>우울증진단시기</th>\n",
       "    </tr>\n",
       "  </thead>\n",
       "  <tbody>\n",
       "    <tr>\n",
       "      <th>0</th>\n",
       "      <td>없음</td>\n",
       "      <td>NaN</td>\n",
       "    </tr>\n",
       "    <tr>\n",
       "      <th>1</th>\n",
       "      <td>무응답</td>\n",
       "      <td>NaN</td>\n",
       "    </tr>\n",
       "    <tr>\n",
       "      <th>2</th>\n",
       "      <td>없음</td>\n",
       "      <td>NaN</td>\n",
       "    </tr>\n",
       "    <tr>\n",
       "      <th>3</th>\n",
       "      <td>없음</td>\n",
       "      <td>NaN</td>\n",
       "    </tr>\n",
       "    <tr>\n",
       "      <th>4</th>\n",
       "      <td>없음</td>\n",
       "      <td>NaN</td>\n",
       "    </tr>\n",
       "    <tr>\n",
       "      <th>...</th>\n",
       "      <td>...</td>\n",
       "      <td>...</td>\n",
       "    </tr>\n",
       "    <tr>\n",
       "      <th>7375</th>\n",
       "      <td>없음</td>\n",
       "      <td>NaN</td>\n",
       "    </tr>\n",
       "    <tr>\n",
       "      <th>7376</th>\n",
       "      <td>없음</td>\n",
       "      <td>NaN</td>\n",
       "    </tr>\n",
       "    <tr>\n",
       "      <th>7377</th>\n",
       "      <td>있음</td>\n",
       "      <td>28.0</td>\n",
       "    </tr>\n",
       "    <tr>\n",
       "      <th>7378</th>\n",
       "      <td>없음</td>\n",
       "      <td>NaN</td>\n",
       "    </tr>\n",
       "    <tr>\n",
       "      <th>7379</th>\n",
       "      <td>없음</td>\n",
       "      <td>NaN</td>\n",
       "    </tr>\n",
       "  </tbody>\n",
       "</table>\n",
       "<p>7380 rows × 2 columns</p>\n",
       "</div>"
      ],
      "text/plain": [
       "     우울증진단여부  우울증진단시기\n",
       "0         없음      NaN\n",
       "1        무응답      NaN\n",
       "2         없음      NaN\n",
       "3         없음      NaN\n",
       "4         없음      NaN\n",
       "...      ...      ...\n",
       "7375      없음      NaN\n",
       "7376      없음      NaN\n",
       "7377      있음     28.0\n",
       "7378      없음      NaN\n",
       "7379      없음      NaN\n",
       "\n",
       "[7380 rows x 2 columns]"
      ]
     },
     "execution_count": 12,
     "metadata": {},
     "output_type": "execute_result"
    }
   ],
   "source": [
    "df1[['우울증진단여부', '우울증진단시기']]"
   ]
  },
  {
   "cell_type": "code",
   "execution_count": 13,
   "metadata": {},
   "outputs": [],
   "source": [
    "b1 = df1[df1['우울증진단여부']=='없음']\n",
    "b2 = df1[df1['우울증진단여부']=='있음']\n",
    "b3 = df1[df1['우울증진단여부']=='무응답']"
   ]
  },
  {
   "cell_type": "code",
   "execution_count": 14,
   "metadata": {},
   "outputs": [
    {
     "name": "stdout",
     "output_type": "stream",
     "text": [
      "(4868, 30)\n",
      "4868\n",
      "(926, 30)\n",
      "926\n"
     ]
    }
   ],
   "source": [
    "# 우울증진단여부가 '없음', '무응답'인 경우, 우울증진단시기가 전부 결측값으로 되어있으므로 0으로 대체한다.\n",
    "print(b1.shape)\n",
    "print(b1['우울증진단시기'].isnull().sum())\n",
    "\n",
    "print(b3.shape)\n",
    "print(b3['우울증진단시기'].isnull().sum())"
   ]
  },
  {
   "cell_type": "code",
   "execution_count": 15,
   "metadata": {},
   "outputs": [],
   "source": [
    "df1['우울증진단시기'].fillna(0, inplace=True)"
   ]
  },
  {
   "cell_type": "code",
   "execution_count": 16,
   "metadata": {},
   "outputs": [
    {
     "name": "stdout",
     "output_type": "stream",
     "text": [
      "3\n"
     ]
    }
   ],
   "source": [
    "# 우울증진단여부가 '있음'이지만, 우울증진단시기가 결측값으로 되어있는 경우에는 age에서 5를 뺀 값으로 대체한다.\n",
    "print(b2['우울증진단시기'].isnull().sum())"
   ]
  },
  {
   "cell_type": "code",
   "execution_count": 17,
   "metadata": {},
   "outputs": [
    {
     "data": {
      "text/html": [
       "<div>\n",
       "<style scoped>\n",
       "    .dataframe tbody tr th:only-of-type {\n",
       "        vertical-align: middle;\n",
       "    }\n",
       "\n",
       "    .dataframe tbody tr th {\n",
       "        vertical-align: top;\n",
       "    }\n",
       "\n",
       "    .dataframe thead th {\n",
       "        text-align: right;\n",
       "    }\n",
       "</style>\n",
       "<table border=\"1\" class=\"dataframe\">\n",
       "  <thead>\n",
       "    <tr style=\"text-align: right;\">\n",
       "      <th></th>\n",
       "      <th>age</th>\n",
       "      <th>우울증진단시기</th>\n",
       "    </tr>\n",
       "  </thead>\n",
       "  <tbody>\n",
       "    <tr>\n",
       "      <th>17</th>\n",
       "      <td>62</td>\n",
       "      <td>55.0</td>\n",
       "    </tr>\n",
       "    <tr>\n",
       "      <th>91</th>\n",
       "      <td>78</td>\n",
       "      <td>61.0</td>\n",
       "    </tr>\n",
       "    <tr>\n",
       "      <th>129</th>\n",
       "      <td>67</td>\n",
       "      <td>64.0</td>\n",
       "    </tr>\n",
       "    <tr>\n",
       "      <th>148</th>\n",
       "      <td>75</td>\n",
       "      <td>58.0</td>\n",
       "    </tr>\n",
       "    <tr>\n",
       "      <th>161</th>\n",
       "      <td>68</td>\n",
       "      <td>62.0</td>\n",
       "    </tr>\n",
       "    <tr>\n",
       "      <th>168</th>\n",
       "      <td>68</td>\n",
       "      <td>66.0</td>\n",
       "    </tr>\n",
       "    <tr>\n",
       "      <th>173</th>\n",
       "      <td>77</td>\n",
       "      <td>73.0</td>\n",
       "    </tr>\n",
       "    <tr>\n",
       "      <th>195</th>\n",
       "      <td>52</td>\n",
       "      <td>50.0</td>\n",
       "    </tr>\n",
       "    <tr>\n",
       "      <th>197</th>\n",
       "      <td>28</td>\n",
       "      <td>24.0</td>\n",
       "    </tr>\n",
       "    <tr>\n",
       "      <th>203</th>\n",
       "      <td>40</td>\n",
       "      <td>35.0</td>\n",
       "    </tr>\n",
       "  </tbody>\n",
       "</table>\n",
       "</div>"
      ],
      "text/plain": [
       "     age  우울증진단시기\n",
       "17    62     55.0\n",
       "91    78     61.0\n",
       "129   67     64.0\n",
       "148   75     58.0\n",
       "161   68     62.0\n",
       "168   68     66.0\n",
       "173   77     73.0\n",
       "195   52     50.0\n",
       "197   28     24.0\n",
       "203   40     35.0"
      ]
     },
     "execution_count": 17,
     "metadata": {},
     "output_type": "execute_result"
    }
   ],
   "source": [
    "b2[['age', '우울증진단시기']].head(10)"
   ]
  },
  {
   "cell_type": "code",
   "execution_count": 18,
   "metadata": {},
   "outputs": [],
   "source": [
    "for i in range(0, len(df1)) :\n",
    "    if df1.loc[i, '우울증진단시기'] == 0 :\n",
    "        if df1.loc[i, '우울증진단여부'] == '있음' :\n",
    "            df1.loc[i, '우울증진단시기'] = df1.loc[i, 'age']-5\n",
    "    else :\n",
    "        continue"
   ]
  },
  {
   "cell_type": "markdown",
   "metadata": {},
   "source": [
    "#### 3) 활동제한여부 결측치 처리"
   ]
  },
  {
   "cell_type": "code",
   "execution_count": 19,
   "metadata": {},
   "outputs": [
    {
     "data": {
      "text/plain": [
       "2.0    5967\n",
       "1.0     470\n",
       "9.0     467\n",
       "Name: 활동제한여부, dtype: int64"
      ]
     },
     "execution_count": 19,
     "metadata": {},
     "output_type": "execute_result"
    }
   ],
   "source": [
    "df1['활동제한여부'].value_counts()"
   ]
  },
  {
   "cell_type": "code",
   "execution_count": 20,
   "metadata": {},
   "outputs": [
    {
     "data": {
      "text/plain": [
       "비해당    5967\n",
       "무응답     943\n",
       "아니오     413\n",
       "예        57\n",
       "Name: 활동제한사유, dtype: int64"
      ]
     },
     "execution_count": 20,
     "metadata": {},
     "output_type": "execute_result"
    }
   ],
   "source": [
    "df1['활동제한사유'].value_counts()"
   ]
  },
  {
   "cell_type": "code",
   "execution_count": 21,
   "metadata": {},
   "outputs": [],
   "source": [
    "c_2 = df1[df1['활동제한여부']==2.0]\n",
    "c_1 = df1[df1['활동제한여부']==1.0]\n",
    "c_9 = df1[df1['활동제한여부']==9.0]"
   ]
  },
  {
   "cell_type": "code",
   "execution_count": 22,
   "metadata": {},
   "outputs": [
    {
     "name": "stdout",
     "output_type": "stream",
     "text": [
      "--활동제한여부 2.0-- \n",
      " 비해당    5967\n",
      "Name: 활동제한사유, dtype: int64\n",
      "\n",
      "--활동제한여부 1.0-- \n",
      " 아니오    413\n",
      "예       57\n",
      "Name: 활동제한사유, dtype: int64\n",
      "\n",
      "--활동제한여부 9.0-- \n",
      " 무응답    467\n",
      "Name: 활동제한사유, dtype: int64\n"
     ]
    }
   ],
   "source": [
    "print('--활동제한여부 2.0-- \\n', c_2['활동제한사유'].value_counts())\n",
    "print('\\n--활동제한여부 1.0-- \\n', c_1['활동제한사유'].value_counts())\n",
    "print('\\n--활동제한여부 9.0-- \\n', c_9['활동제한사유'].value_counts())"
   ]
  },
  {
   "cell_type": "code",
   "execution_count": 23,
   "metadata": {},
   "outputs": [],
   "source": [
    "df1['활동제한여부'].fillna(0, inplace=True)"
   ]
  },
  {
   "cell_type": "code",
   "execution_count": 24,
   "metadata": {},
   "outputs": [],
   "source": [
    "for i in range(0, len(df1)) :\n",
    "    if df1.loc[i, '활동제한여부'] == 0 :\n",
    "        if df1.loc[i, '활동제한사유'] == '비해당' :\n",
    "            df1.loc[i, '활동제한여부'] = 2.0\n",
    "        \n",
    "        elif df1.loc[i, '활동제한사유'] == '아니요' :\n",
    "            df1.loc[i, '활동제한여부'] = 1.0\n",
    "            \n",
    "        elif df1.loc[i, '활동제한사유'] == '예' :\n",
    "            df1.loc[i, '활동제한여부'] = 1.0\n",
    "            \n",
    "        elif df1.loc[i, '활동제한사유'] == '무응답' :\n",
    "            df1.loc[i, '활동제한여부'] = 9.0\n",
    "            \n",
    "    else :\n",
    "        continue"
   ]
  },
  {
   "cell_type": "markdown",
   "metadata": {},
   "source": [
    "#### 4) 하루평균수면시간 결측치 처리"
   ]
  },
  {
   "cell_type": "code",
   "execution_count": 25,
   "metadata": {},
   "outputs": [
    {
     "data": {
      "text/plain": [
       "Index(['ID', 'age', '성별', '가구원수', '기초생활수급여부', '주택형태', '월평균가구총소득(만원)', '결혼여부',\n",
       "       '결혼상태', '주관적건강상태', '2주내몸이상여부(주관적)', '고혈압진단여부', '이상지지혈증진단여부', '우울증진단여부',\n",
       "       '우울증진단시기', '우을중현재유병여부', '우울증치료', '활동제한여부', '활동제한사유', '불안우울설문', '경제활동상태',\n",
       "       '미취업사유', '하루평균수면시간', '평소스트레스인지정도', '2주이상우울감여부', '1년간정신문제상담',\n",
       "       '1년간자살생각여부', '1년간자살계획여부', '1년간자살시도여부', '당뇨병진단여부'],\n",
       "      dtype='object')"
      ]
     },
     "execution_count": 25,
     "metadata": {},
     "output_type": "execute_result"
    }
   ],
   "source": [
    "df1.columns"
   ]
  },
  {
   "cell_type": "code",
   "execution_count": 26,
   "metadata": {},
   "outputs": [],
   "source": [
    "df1['하루평균수면시간'].fillna(df1['하루평균수면시간'].mean(), inplace=True)"
   ]
  },
  {
   "cell_type": "markdown",
   "metadata": {},
   "source": [
    "### Label Encoding"
   ]
  },
  {
   "cell_type": "code",
   "execution_count": 27,
   "metadata": {},
   "outputs": [
    {
     "data": {
      "text/plain": [
       "2.0    5967\n",
       "9.0     943\n",
       "1.0     470\n",
       "Name: 활동제한여부, dtype: int64"
      ]
     },
     "execution_count": 27,
     "metadata": {},
     "output_type": "execute_result"
    }
   ],
   "source": [
    "df1['활동제한여부'].value_counts()"
   ]
  },
  {
   "cell_type": "code",
   "execution_count": 28,
   "metadata": {},
   "outputs": [
    {
     "name": "stdout",
     "output_type": "stream",
     "text": [
      "float64\n",
      "object\n"
     ]
    }
   ],
   "source": [
    "print(df1['활동제한여부'].dtypes)\n",
    "df1['활동제한여부'] = df1['활동제한여부'].astype('object')\n",
    "print(df1['활동제한여부'].dtypes)"
   ]
  },
  {
   "cell_type": "code",
   "execution_count": 29,
   "metadata": {},
   "outputs": [
    {
     "name": "stdout",
     "output_type": "stream",
     "text": [
      "object column:  Index(['ID', '성별', '기초생활수급여부', '주택형태', '월평균가구총소득(만원)', '결혼여부', '결혼상태',\n",
      "       '주관적건강상태', '2주내몸이상여부(주관적)', '고혈압진단여부', '이상지지혈증진단여부', '우울증진단여부',\n",
      "       '우을중현재유병여부', '우울증치료', '활동제한여부', '활동제한사유', '불안우울설문', '경제활동상태', '미취업사유',\n",
      "       '평소스트레스인지정도', '2주이상우울감여부', '1년간정신문제상담', '1년간자살생각여부', '1년간자살계획여부',\n",
      "       '1년간자살시도여부', '당뇨병진단여부'],\n",
      "      dtype='object')\n"
     ]
    }
   ],
   "source": [
    "obj_cols = df1.select_dtypes('object').columns   # object 변수만 확인\n",
    "print('object column: ', obj_cols)"
   ]
  },
  {
   "cell_type": "code",
   "execution_count": 30,
   "metadata": {},
   "outputs": [
    {
     "data": {
      "text/plain": [
       "Index(['ID', 'age', '성별', '가구원수', '기초생활수급여부', '주택형태', '월평균가구총소득(만원)', '결혼여부',\n",
       "       '결혼상태', '주관적건강상태', '2주내몸이상여부(주관적)', '고혈압진단여부', '이상지지혈증진단여부', '우울증진단여부',\n",
       "       '우울증진단시기', '우을중현재유병여부', '우울증치료', '활동제한여부', '활동제한사유', '불안우울설문', '경제활동상태',\n",
       "       '미취업사유', '하루평균수면시간', '평소스트레스인지정도', '2주이상우울감여부', '1년간정신문제상담',\n",
       "       '1년간자살생각여부', '1년간자살계획여부', '1년간자살시도여부', '당뇨병진단여부'],\n",
       "      dtype='object')"
      ]
     },
     "execution_count": 30,
     "metadata": {},
     "output_type": "execute_result"
    }
   ],
   "source": [
    "df1.columns"
   ]
  },
  {
   "cell_type": "code",
   "execution_count": 31,
   "metadata": {},
   "outputs": [],
   "source": [
    "df1.rename(columns = {\"우을중현재유병여부\": \"우울증현재유병여부\"}, inplace = True)"
   ]
  },
  {
   "cell_type": "code",
   "execution_count": 32,
   "metadata": {},
   "outputs": [],
   "source": [
    "from sklearn.preprocessing import LabelEncoder\n",
    "\n",
    "labelencoder = LabelEncoder()\n",
    "\n",
    "df1['성별'] = labelencoder.fit_transform(df1['성별'])\n",
    "df1['기초생활수급여부'] = labelencoder.fit_transform(df1['기초생활수급여부'])\n",
    "df1['주택형태'] = labelencoder.fit_transform(df1['주택형태'])\n",
    "df1['결혼여부'] = labelencoder.fit_transform(df1['결혼여부'])\n",
    "df1['결혼상태'] = labelencoder.fit_transform(df1['결혼상태'])\n",
    "df1['주관적건강상태'] = labelencoder.fit_transform(df1['주관적건강상태'])\n",
    "df1['2주내몸이상여부(주관적)'] = labelencoder.fit_transform(df1['2주내몸이상여부(주관적)'])\n",
    "df1['고혈압진단여부'] = labelencoder.fit_transform(df1['고혈압진단여부'])\n",
    "df1['이상지지혈증진단여부'] = labelencoder.fit_transform(df1['이상지지혈증진단여부'])\n",
    "df1['우울증진단여부'] = labelencoder.fit_transform(df1['우울증진단여부'])\n",
    "df1['우울증현재유병여부'] = labelencoder.fit_transform(df1['우울증현재유병여부'])\n",
    "df1['우울증치료'] = labelencoder.fit_transform(df1['우울증치료'])\n",
    "df1['활동제한여부'] = labelencoder.fit_transform(df1['활동제한여부'])\n",
    "df1['활동제한사유'] = labelencoder.fit_transform(df1['활동제한사유'])\n",
    "df1['불안우울설문'] = labelencoder.fit_transform(df1['불안우울설문'])\n",
    "df1['경제활동상태'] = labelencoder.fit_transform(df1['경제활동상태'])\n",
    "df1['미취업사유'] = labelencoder.fit_transform(df1['미취업사유'])\n",
    "df1['평소스트레스인지정도'] = labelencoder.fit_transform(df1['평소스트레스인지정도'])\n",
    "df1['2주이상우울감여부'] = labelencoder.fit_transform(df1['2주이상우울감여부'])\n",
    "df1['1년간정신문제상담'] = labelencoder.fit_transform(df1['1년간정신문제상담'])\n",
    "df1['1년간자살생각여부'] = labelencoder.fit_transform(df1['1년간자살생각여부'])\n",
    "df1['1년간자살계획여부'] = labelencoder.fit_transform(df1['1년간자살계획여부'])\n",
    "df1['1년간자살시도여부'] = labelencoder.fit_transform(df1['1년간자살시도여부'])\n",
    "df1['당뇨병진단여부'] = labelencoder.fit_transform(df1['당뇨병진단여부'])"
   ]
  },
  {
   "cell_type": "markdown",
   "metadata": {},
   "source": [
    "### Deal with Outliers (Data 범위 95% 기준)"
   ]
  },
  {
   "cell_type": "code",
   "execution_count": 33,
   "metadata": {},
   "outputs": [],
   "source": [
    "# 그래프 시각화 옵션 설정 함수 \n",
    "%matplotlib inline\n",
    "\n",
    "# 그래프 한글설정\n",
    "mpl.rc('font',family = \"Malgun Gothic\")\n",
    "\n",
    "#그래프의 한글을 더욱 선명하게 출력\n",
    "from IPython.display import set_matplotlib_formats\n",
    "set_matplotlib_formats('retina')"
   ]
  },
  {
   "cell_type": "markdown",
   "metadata": {},
   "source": [
    "#### 1) age 이상치 처리"
   ]
  },
  {
   "cell_type": "code",
   "execution_count": 34,
   "metadata": {},
   "outputs": [
    {
     "data": {
      "text/plain": [
       "<matplotlib.axes._subplots.AxesSubplot at 0x290121006c8>"
      ]
     },
     "execution_count": 34,
     "metadata": {},
     "output_type": "execute_result"
    },
    {
     "data": {
      "image/png": "[encoded data removed]",
      "text/plain": [
       "<Figure size 720x360 with 1 Axes>"
      ]
     },
     "metadata": {
      "image/png": {
       "height": 303,
       "width": 590
      },
      "needs_background": "light"
     },
     "output_type": "display_data"
    }
   ],
   "source": [
    "df1.boxplot(column = 'age', figsize=(10,5))"
   ]
  },
  {
   "cell_type": "code",
   "execution_count": 35,
   "metadata": {},
   "outputs": [
    {
     "name": "stdout",
     "output_type": "stream",
     "text": [
      "age 95%: 78.0\n",
      "age 5%: 5.0\n"
     ]
    }
   ],
   "source": [
    "age_95 = np.percentile(df1['age'], 95)\n",
    "print('age 95%:', age_95)\n",
    "age_5 = np.percentile(df1['age'], 5)\n",
    "print('age 5%:', age_5)"
   ]
  },
  {
   "cell_type": "code",
   "execution_count": 36,
   "metadata": {},
   "outputs": [
    {
     "name": "stdout",
     "output_type": "stream",
     "text": [
      "(379, 30)\n",
      "(371, 30)\n"
     ]
    }
   ],
   "source": [
    "age_outlier1 = df1[df1['age'] >= age_95]\n",
    "age_outlier2 = df1[df1['age'] <= age_5]\n",
    "print(age_outlier1.shape)\n",
    "print(age_outlier2.shape)"
   ]
  },
  {
   "cell_type": "code",
   "execution_count": 37,
   "metadata": {},
   "outputs": [],
   "source": [
    "for i in range(0, len(df1)) :\n",
    "    if df1.loc[i, 'age'] >= age_95 :\n",
    "        df1.loc[i, 'age'] = 77\n",
    "        \n",
    "    elif df1.loc[i, 'age'] <= age_5 :\n",
    "        df1.loc[i, 'age'] = 6 \n",
    "            \n",
    "    else :\n",
    "        continue"
   ]
  },
  {
   "cell_type": "markdown",
   "metadata": {},
   "source": [
    "#### 2) 가구원수 이상치 처리"
   ]
  },
  {
   "cell_type": "code",
   "execution_count": 38,
   "metadata": {
    "scrolled": true
   },
   "outputs": [
    {
     "data": {
      "text/plain": [
       "<matplotlib.axes._subplots.AxesSubplot at 0x290125df588>"
      ]
     },
     "execution_count": 38,
     "metadata": {},
     "output_type": "execute_result"
    },
    {
     "data": {
      "image/png": "[encoded data removed]",
      "text/plain": [
       "<Figure size 720x360 with 1 Axes>"
      ]
     },
     "metadata": {
      "image/png": {
       "height": 303,
       "width": 584
      },
      "needs_background": "light"
     },
     "output_type": "display_data"
    }
   ],
   "source": [
    "df1.boxplot(column = '가구원수', figsize=(10,5))"
   ]
  },
  {
   "cell_type": "code",
   "execution_count": 39,
   "metadata": {},
   "outputs": [
    {
     "name": "stdout",
     "output_type": "stream",
     "text": [
      "가구원수 95%: 5.0\n",
      "가구원수 5%: 1.0\n"
     ]
    }
   ],
   "source": [
    "h_95 = np.percentile(df1['가구원수'], 95)\n",
    "print('가구원수 95%:', h_95)\n",
    "h_5 = np.percentile(df1['가구원수'], 5)\n",
    "print('가구원수 5%:', h_5)"
   ]
  },
  {
   "cell_type": "code",
   "execution_count": 40,
   "metadata": {},
   "outputs": [
    {
     "name": "stdout",
     "output_type": "stream",
     "text": [
      "(1047, 30)\n",
      "(600, 30)\n"
     ]
    }
   ],
   "source": [
    "h_outlier1 = df1[df1['가구원수'] >= h_95]\n",
    "h_outlier2 = df1[df1['가구원수'] <= h_5]\n",
    "print(h_outlier1.shape)\n",
    "print(h_outlier2.shape)"
   ]
  },
  {
   "cell_type": "code",
   "execution_count": 41,
   "metadata": {},
   "outputs": [],
   "source": [
    "for i in range(0, len(df1)) :\n",
    "    if df1.loc[i, '가구원수'] >= h_95 :\n",
    "        df1.loc[i, '가구원수'] = h_95\n",
    "        \n",
    "    elif df1.loc[i, '가구원수'] <= h_5 :\n",
    "        df1.loc[i, '가구원수'] = h_5 \n",
    "            \n",
    "    else :\n",
    "        continue"
   ]
  },
  {
   "cell_type": "markdown",
   "metadata": {},
   "source": [
    "#### 3) 월평균가구총소득(만원) 이상치 처리"
   ]
  },
  {
   "cell_type": "code",
   "execution_count": 42,
   "metadata": {},
   "outputs": [],
   "source": [
    "df1['월평균가구총소득(만원)'] = df1['월평균가구총소득(만원)'].astype('float')"
   ]
  },
  {
   "cell_type": "code",
   "execution_count": 43,
   "metadata": {},
   "outputs": [
    {
     "data": {
      "text/plain": [
       "<matplotlib.axes._subplots.AxesSubplot at 0x29012cd3208>"
      ]
     },
     "execution_count": 43,
     "metadata": {},
     "output_type": "execute_result"
    },
    {
     "data": {
      "image/png": "[encoded data removed]",
      "text/plain": [
       "<Figure size 720x360 with 1 Axes>"
      ]
     },
     "metadata": {
      "image/png": {
       "height": 303,
       "width": 601
      },
      "needs_background": "light"
     },
     "output_type": "display_data"
    }
   ],
   "source": [
    "df1.boxplot(column = '월평균가구총소득(만원)', figsize=(10,5))"
   ]
  },
  {
   "cell_type": "code",
   "execution_count": 44,
   "metadata": {},
   "outputs": [
    {
     "name": "stdout",
     "output_type": "stream",
     "text": [
      "월평균가구총소득(만원) 95%: 955.0\n",
      "월평균가구총소득(만원) 5%: 45.0\n"
     ]
    }
   ],
   "source": [
    "r_95 = np.percentile(df1['월평균가구총소득(만원)'], 95)\n",
    "print('월평균가구총소득(만원) 95%:', r_95)\n",
    "r_5 = np.percentile(df1['월평균가구총소득(만원)'], 5)\n",
    "print('월평균가구총소득(만원) 5%:', r_5)"
   ]
  },
  {
   "cell_type": "code",
   "execution_count": 45,
   "metadata": {},
   "outputs": [
    {
     "name": "stdout",
     "output_type": "stream",
     "text": [
      "(372, 30)\n",
      "(374, 30)\n"
     ]
    }
   ],
   "source": [
    "r_outlier1 = df1[df1['월평균가구총소득(만원)'] >= r_95]\n",
    "r_outlier2 = df1[df1['월평균가구총소득(만원)'] <= r_5]\n",
    "print(r_outlier1.shape)\n",
    "print(r_outlier2.shape)"
   ]
  },
  {
   "cell_type": "code",
   "execution_count": 46,
   "metadata": {},
   "outputs": [],
   "source": [
    "for i in range(0, len(df1)) :\n",
    "    if df1.loc[i, '월평균가구총소득(만원)'] >= r_95 :\n",
    "        df1.loc[i, '월평균가구총소득(만원)'] = r_95\n",
    "        \n",
    "    elif df1.loc[i, '월평균가구총소득(만원)'] <= r_5 :\n",
    "        df1.loc[i, '월평균가구총소득(만원)'] = r_5 \n",
    "            \n",
    "    else :\n",
    "        continue"
   ]
  },
  {
   "cell_type": "code",
   "execution_count": 47,
   "metadata": {},
   "outputs": [
    {
     "data": {
      "text/plain": [
       "<matplotlib.axes._subplots.AxesSubplot at 0x29012ff1e88>"
      ]
     },
     "execution_count": 47,
     "metadata": {},
     "output_type": "execute_result"
    },
    {
     "data": {
      "image/png": "[encoded data removed]",
      "text/plain": [
       "<Figure size 720x360 with 1 Axes>"
      ]
     },
     "metadata": {
      "image/png": {
       "height": 307,
       "width": 601
      },
      "needs_background": "light"
     },
     "output_type": "display_data"
    }
   ],
   "source": [
    "df1.boxplot(column = '월평균가구총소득(만원)', figsize=(10,5))"
   ]
  },
  {
   "cell_type": "markdown",
   "metadata": {},
   "source": [
    "#### 4) 우울증진단시기 이상치 처리"
   ]
  },
  {
   "cell_type": "code",
   "execution_count": 48,
   "metadata": {},
   "outputs": [
    {
     "data": {
      "text/plain": [
       "<matplotlib.axes._subplots.AxesSubplot at 0x29013381848>"
      ]
     },
     "execution_count": 48,
     "metadata": {},
     "output_type": "execute_result"
    },
    {
     "data": {
      "image/png": "[encoded data removed]",
      "text/plain": [
       "<Figure size 720x504 with 1 Axes>"
      ]
     },
     "metadata": {
      "image/png": {
       "height": 412,
       "width": 590
      },
      "needs_background": "light"
     },
     "output_type": "display_data"
    }
   ],
   "source": [
    "# 우울증진단시기가 0이 아닌 경우\n",
    "df1_only = df1[df1['우울증진단시기']!=0]\n",
    "\n",
    "df1_only.boxplot(column = '우울증진단시기', figsize=(10,7))"
   ]
  },
  {
   "cell_type": "code",
   "execution_count": 49,
   "metadata": {},
   "outputs": [
    {
     "name": "stdout",
     "output_type": "stream",
     "text": [
      "우울증진단시기 95%: 71.39999999999998\n",
      "우울증진단시기 5%: 20.0\n"
     ]
    }
   ],
   "source": [
    "m_95 = np.percentile(df1_only['우울증진단시기'], 95)\n",
    "print('우울증진단시기 95%:', m_95)\n",
    "m_5 = np.percentile(df1_only['우울증진단시기'], 5)\n",
    "print('우울증진단시기 5%:', m_5)"
   ]
  },
  {
   "cell_type": "code",
   "execution_count": 50,
   "metadata": {},
   "outputs": [],
   "source": [
    "for i in range(0, len(df1)) :\n",
    "    if df1.loc[i, '우울증진단시기'] != 0 :\n",
    "        if df1.loc[i, '우울증진단시기'] >= m_95 :\n",
    "            df1.loc[i, '우울증진단시기'] = m_95\n",
    "        \n",
    "        elif df1.loc[i, '우울증진단시기'] <= m_5 :\n",
    "            df1.loc[i, '우울증진단시기'] = m_5 \n",
    "            \n",
    "    else :\n",
    "        continue"
   ]
  },
  {
   "cell_type": "markdown",
   "metadata": {},
   "source": [
    "#### 5) 하루평균수면시간 이상치 처리"
   ]
  },
  {
   "cell_type": "code",
   "execution_count": 51,
   "metadata": {},
   "outputs": [
    {
     "data": {
      "text/plain": [
       "<matplotlib.axes._subplots.AxesSubplot at 0x290136c2408>"
      ]
     },
     "execution_count": 51,
     "metadata": {},
     "output_type": "execute_result"
    },
    {
     "data": {
      "image/png": "[encoded data removed]",
      "text/plain": [
       "<Figure size 720x360 with 1 Axes>"
      ]
     },
     "metadata": {
      "image/png": {
       "height": 303,
       "width": 590
      },
      "needs_background": "light"
     },
     "output_type": "display_data"
    }
   ],
   "source": [
    "df1.boxplot(column = '하루평균수면시간', figsize=(10,5))"
   ]
  },
  {
   "cell_type": "code",
   "execution_count": 52,
   "metadata": {},
   "outputs": [
    {
     "name": "stdout",
     "output_type": "stream",
     "text": [
      "우울증진단시기 95%: 9.0\n",
      "우울증진단시기 5%: 5.0\n"
     ]
    }
   ],
   "source": [
    "s_95 = np.percentile(df1['하루평균수면시간'], 95)\n",
    "print('우울증진단시기 95%:', s_95)\n",
    "s_5 = np.percentile(df1['하루평균수면시간'], 5)\n",
    "print('우울증진단시기 5%:', s_5)"
   ]
  },
  {
   "cell_type": "code",
   "execution_count": 53,
   "metadata": {},
   "outputs": [
    {
     "name": "stdout",
     "output_type": "stream",
     "text": [
      "(490, 30)\n",
      "(954, 30)\n"
     ]
    }
   ],
   "source": [
    "s_outlier1 = df1[df1['하루평균수면시간'] >= s_95]\n",
    "s_outlier2 = df1[df1['하루평균수면시간'] <= s_5]\n",
    "print(s_outlier1.shape)\n",
    "print(s_outlier2.shape)"
   ]
  },
  {
   "cell_type": "code",
   "execution_count": 54,
   "metadata": {},
   "outputs": [],
   "source": [
    "for i in range(0, len(df1)) :\n",
    "    if df1.loc[i, '하루평균수면시간'] >= s_95 :\n",
    "        df1.loc[i, '하루평균수면시간'] = s_95\n",
    "        \n",
    "    elif df1.loc[i, '하루평균수면시간'] <= s_5 :\n",
    "        df1.loc[i, '하루평균수면시간'] = s_5 \n",
    "            \n",
    "    else :\n",
    "        continue"
   ]
  },
  {
   "cell_type": "code",
   "execution_count": 55,
   "metadata": {},
   "outputs": [
    {
     "data": {
      "text/plain": [
       "<matplotlib.axes._subplots.AxesSubplot at 0x29013e50f88>"
      ]
     },
     "execution_count": 55,
     "metadata": {},
     "output_type": "execute_result"
    },
    {
     "data": {
      "image/png": "[encoded data removed]",
      "text/plain": [
       "<Figure size 720x360 with 1 Axes>"
      ]
     },
     "metadata": {
      "image/png": {
       "height": 303,
       "width": 592
      },
      "needs_background": "light"
     },
     "output_type": "display_data"
    }
   ],
   "source": [
    "df1.boxplot(column = '하루평균수면시간', figsize=(10,5))"
   ]
  },
  {
   "cell_type": "markdown",
   "metadata": {},
   "source": [
    "## 3. Clustering Analysis \n",
    "\n",
    "(K-means 군집분석 활용, 4개 군집형성)"
   ]
  },
  {
   "cell_type": "code",
   "execution_count": 56,
   "metadata": {},
   "outputs": [],
   "source": [
    "from sklearn.cluster import KMeans\n",
    "from sklearn.preprocessing import StandardScaler"
   ]
  },
  {
   "cell_type": "code",
   "execution_count": 57,
   "metadata": {},
   "outputs": [],
   "source": [
    "df1.drop(['ID'], axis='columns', inplace=True)"
   ]
  },
  {
   "cell_type": "code",
   "execution_count": 58,
   "metadata": {},
   "outputs": [],
   "source": [
    "df1.rename(columns = {\"월평균가구총소득(만원)\": \"월평균가구총소득\"}, inplace = True)"
   ]
  },
  {
   "cell_type": "code",
   "execution_count": 59,
   "metadata": {},
   "outputs": [
    {
     "data": {
      "text/plain": [
       "array([[-0.02179844,  0.91948973,  0.71336702, ...,  0.42759361,\n",
       "         0.4435803 ,  0.10563231],\n",
       "       [-1.51177648, -1.08755973,  0.71336702, ..., -2.74869311,\n",
       "        -2.77373924, -2.27836285],\n",
       "       [ 0.79091686,  0.91948973, -0.97239943, ...,  0.42759361,\n",
       "         0.4435803 ,  0.10563231],\n",
       "       ...,\n",
       "       [ 1.51333045, -1.08755973, -0.97239943, ...,  0.42759361,\n",
       "         0.4435803 ,  2.48962746],\n",
       "       [ 1.51333045,  0.91948973, -0.97239943, ...,  0.42759361,\n",
       "         0.4435803 ,  0.10563231],\n",
       "       [ 0.74576601,  0.91948973, -1.81528265, ...,  0.42759361,\n",
       "         0.4435803 ,  0.10563231]])"
      ]
     },
     "execution_count": 59,
     "metadata": {},
     "output_type": "execute_result"
    }
   ],
   "source": [
    "scaler = StandardScaler()\n",
    "df1_scaled = scaler.fit_transform(df1)\n",
    "df1_scaled"
   ]
  },
  {
   "cell_type": "code",
   "execution_count": 60,
   "metadata": {},
   "outputs": [
    {
     "data": {
      "text/html": [
       "<div>\n",
       "<style scoped>\n",
       "    .dataframe tbody tr th:only-of-type {\n",
       "        vertical-align: middle;\n",
       "    }\n",
       "\n",
       "    .dataframe tbody tr th {\n",
       "        vertical-align: top;\n",
       "    }\n",
       "\n",
       "    .dataframe thead th {\n",
       "        text-align: right;\n",
       "    }\n",
       "</style>\n",
       "<table border=\"1\" class=\"dataframe\">\n",
       "  <thead>\n",
       "    <tr style=\"text-align: right;\">\n",
       "      <th></th>\n",
       "      <th>age</th>\n",
       "      <th>성별</th>\n",
       "      <th>가구원수</th>\n",
       "      <th>기초생활수급여부</th>\n",
       "      <th>주택형태</th>\n",
       "      <th>월평균가구총소득</th>\n",
       "      <th>결혼여부</th>\n",
       "      <th>결혼상태</th>\n",
       "      <th>주관적건강상태</th>\n",
       "      <th>2주내몸이상여부(주관적)</th>\n",
       "      <th>고혈압진단여부</th>\n",
       "      <th>이상지지혈증진단여부</th>\n",
       "      <th>우울증진단여부</th>\n",
       "      <th>우울증진단시기</th>\n",
       "      <th>우울증현재유병여부</th>\n",
       "      <th>우울증치료</th>\n",
       "      <th>활동제한여부</th>\n",
       "      <th>활동제한사유</th>\n",
       "      <th>불안우울설문</th>\n",
       "      <th>경제활동상태</th>\n",
       "      <th>미취업사유</th>\n",
       "      <th>하루평균수면시간</th>\n",
       "      <th>평소스트레스인지정도</th>\n",
       "      <th>2주이상우울감여부</th>\n",
       "      <th>1년간정신문제상담</th>\n",
       "      <th>1년간자살생각여부</th>\n",
       "      <th>1년간자살계획여부</th>\n",
       "      <th>1년간자살시도여부</th>\n",
       "      <th>당뇨병진단여부</th>\n",
       "      <th>ClusterKmeans</th>\n",
       "    </tr>\n",
       "  </thead>\n",
       "  <tbody>\n",
       "    <tr>\n",
       "      <th>0</th>\n",
       "      <td>43</td>\n",
       "      <td>1</td>\n",
       "      <td>4.0</td>\n",
       "      <td>1</td>\n",
       "      <td>1</td>\n",
       "      <td>275.0</td>\n",
       "      <td>0</td>\n",
       "      <td>0</td>\n",
       "      <td>0</td>\n",
       "      <td>2</td>\n",
       "      <td>2</td>\n",
       "      <td>2</td>\n",
       "      <td>2</td>\n",
       "      <td>0.0</td>\n",
       "      <td>1</td>\n",
       "      <td>1</td>\n",
       "      <td>1</td>\n",
       "      <td>1</td>\n",
       "      <td>2</td>\n",
       "      <td>3</td>\n",
       "      <td>3</td>\n",
       "      <td>7.000000</td>\n",
       "      <td>5</td>\n",
       "      <td>2</td>\n",
       "      <td>2</td>\n",
       "      <td>2</td>\n",
       "      <td>2</td>\n",
       "      <td>2</td>\n",
       "      <td>1</td>\n",
       "      <td>4</td>\n",
       "    </tr>\n",
       "    <tr>\n",
       "      <th>1</th>\n",
       "      <td>10</td>\n",
       "      <td>0</td>\n",
       "      <td>4.0</td>\n",
       "      <td>1</td>\n",
       "      <td>1</td>\n",
       "      <td>275.0</td>\n",
       "      <td>1</td>\n",
       "      <td>1</td>\n",
       "      <td>3</td>\n",
       "      <td>0</td>\n",
       "      <td>0</td>\n",
       "      <td>0</td>\n",
       "      <td>0</td>\n",
       "      <td>0.0</td>\n",
       "      <td>0</td>\n",
       "      <td>0</td>\n",
       "      <td>2</td>\n",
       "      <td>0</td>\n",
       "      <td>1</td>\n",
       "      <td>0</td>\n",
       "      <td>2</td>\n",
       "      <td>6.762435</td>\n",
       "      <td>3</td>\n",
       "      <td>0</td>\n",
       "      <td>0</td>\n",
       "      <td>0</td>\n",
       "      <td>0</td>\n",
       "      <td>0</td>\n",
       "      <td>0</td>\n",
       "      <td>1</td>\n",
       "    </tr>\n",
       "    <tr>\n",
       "      <th>2</th>\n",
       "      <td>61</td>\n",
       "      <td>1</td>\n",
       "      <td>2.0</td>\n",
       "      <td>1</td>\n",
       "      <td>2</td>\n",
       "      <td>125.0</td>\n",
       "      <td>0</td>\n",
       "      <td>5</td>\n",
       "      <td>0</td>\n",
       "      <td>1</td>\n",
       "      <td>2</td>\n",
       "      <td>2</td>\n",
       "      <td>2</td>\n",
       "      <td>0.0</td>\n",
       "      <td>1</td>\n",
       "      <td>1</td>\n",
       "      <td>1</td>\n",
       "      <td>1</td>\n",
       "      <td>2</td>\n",
       "      <td>2</td>\n",
       "      <td>4</td>\n",
       "      <td>8.000000</td>\n",
       "      <td>5</td>\n",
       "      <td>3</td>\n",
       "      <td>2</td>\n",
       "      <td>2</td>\n",
       "      <td>2</td>\n",
       "      <td>2</td>\n",
       "      <td>1</td>\n",
       "      <td>4</td>\n",
       "    </tr>\n",
       "    <tr>\n",
       "      <th>3</th>\n",
       "      <td>35</td>\n",
       "      <td>0</td>\n",
       "      <td>2.0</td>\n",
       "      <td>1</td>\n",
       "      <td>2</td>\n",
       "      <td>125.0</td>\n",
       "      <td>1</td>\n",
       "      <td>1</td>\n",
       "      <td>4</td>\n",
       "      <td>1</td>\n",
       "      <td>2</td>\n",
       "      <td>2</td>\n",
       "      <td>2</td>\n",
       "      <td>0.0</td>\n",
       "      <td>1</td>\n",
       "      <td>1</td>\n",
       "      <td>1</td>\n",
       "      <td>1</td>\n",
       "      <td>2</td>\n",
       "      <td>3</td>\n",
       "      <td>3</td>\n",
       "      <td>8.000000</td>\n",
       "      <td>2</td>\n",
       "      <td>2</td>\n",
       "      <td>2</td>\n",
       "      <td>2</td>\n",
       "      <td>2</td>\n",
       "      <td>2</td>\n",
       "      <td>1</td>\n",
       "      <td>4</td>\n",
       "    </tr>\n",
       "    <tr>\n",
       "      <th>4</th>\n",
       "      <td>20</td>\n",
       "      <td>0</td>\n",
       "      <td>1.0</td>\n",
       "      <td>1</td>\n",
       "      <td>2</td>\n",
       "      <td>45.0</td>\n",
       "      <td>1</td>\n",
       "      <td>1</td>\n",
       "      <td>5</td>\n",
       "      <td>2</td>\n",
       "      <td>2</td>\n",
       "      <td>2</td>\n",
       "      <td>2</td>\n",
       "      <td>0.0</td>\n",
       "      <td>1</td>\n",
       "      <td>1</td>\n",
       "      <td>1</td>\n",
       "      <td>1</td>\n",
       "      <td>2</td>\n",
       "      <td>2</td>\n",
       "      <td>8</td>\n",
       "      <td>6.000000</td>\n",
       "      <td>2</td>\n",
       "      <td>2</td>\n",
       "      <td>2</td>\n",
       "      <td>2</td>\n",
       "      <td>2</td>\n",
       "      <td>2</td>\n",
       "      <td>1</td>\n",
       "      <td>4</td>\n",
       "    </tr>\n",
       "  </tbody>\n",
       "</table>\n",
       "</div>"
      ],
      "text/plain": [
       "   age  성별  가구원수  기초생활수급여부  주택형태  월평균가구총소득  결혼여부  결혼상태  주관적건강상태  \\\n",
       "0   43   1   4.0         1     1     275.0     0     0        0   \n",
       "1   10   0   4.0         1     1     275.0     1     1        3   \n",
       "2   61   1   2.0         1     2     125.0     0     5        0   \n",
       "3   35   0   2.0         1     2     125.0     1     1        4   \n",
       "4   20   0   1.0         1     2      45.0     1     1        5   \n",
       "\n",
       "   2주내몸이상여부(주관적)  고혈압진단여부  이상지지혈증진단여부  우울증진단여부  우울증진단시기  우울증현재유병여부  우울증치료  \\\n",
       "0              2        2           2        2      0.0          1      1   \n",
       "1              0        0           0        0      0.0          0      0   \n",
       "2              1        2           2        2      0.0          1      1   \n",
       "3              1        2           2        2      0.0          1      1   \n",
       "4              2        2           2        2      0.0          1      1   \n",
       "\n",
       "   활동제한여부  활동제한사유  불안우울설문  경제활동상태  미취업사유  하루평균수면시간  평소스트레스인지정도  2주이상우울감여부  \\\n",
       "0       1       1       2       3      3  7.000000           5          2   \n",
       "1       2       0       1       0      2  6.762435           3          0   \n",
       "2       1       1       2       2      4  8.000000           5          3   \n",
       "3       1       1       2       3      3  8.000000           2          2   \n",
       "4       1       1       2       2      8  6.000000           2          2   \n",
       "\n",
       "   1년간정신문제상담  1년간자살생각여부  1년간자살계획여부  1년간자살시도여부  당뇨병진단여부  ClusterKmeans  \n",
       "0          2          2          2          2        1              4  \n",
       "1          0          0          0          0        0              1  \n",
       "2          2          2          2          2        1              4  \n",
       "3          2          2          2          2        1              4  \n",
       "4          2          2          2          2        1              4  "
      ]
     },
     "execution_count": 60,
     "metadata": {},
     "output_type": "execute_result"
    }
   ],
   "source": [
    "clus = KMeans(4)\n",
    "clus.fit(df1_scaled)\n",
    "cluster_KMeans = [i+1 for i in clus.labels_]\n",
    "df1['ClusterKmeans'] = cluster_KMeans\n",
    "df1.head(5)"
   ]
  },
  {
   "cell_type": "code",
   "execution_count": 61,
   "metadata": {},
   "outputs": [
    {
     "data": {
      "text/html": [
       "<div>\n",
       "<style scoped>\n",
       "    .dataframe tbody tr th:only-of-type {\n",
       "        vertical-align: middle;\n",
       "    }\n",
       "\n",
       "    .dataframe tbody tr th {\n",
       "        vertical-align: top;\n",
       "    }\n",
       "\n",
       "    .dataframe thead th {\n",
       "        text-align: right;\n",
       "    }\n",
       "</style>\n",
       "<table border=\"1\" class=\"dataframe\">\n",
       "  <thead>\n",
       "    <tr style=\"text-align: right;\">\n",
       "      <th></th>\n",
       "      <th>ClusterKmeans</th>\n",
       "      <th>age_min</th>\n",
       "      <th>age_mean</th>\n",
       "      <th>age_max</th>\n",
       "      <th>age_median</th>\n",
       "      <th>성별_min</th>\n",
       "      <th>성별_mean</th>\n",
       "      <th>성별_max</th>\n",
       "      <th>성별_median</th>\n",
       "      <th>가구원수_min</th>\n",
       "      <th>가구원수_mean</th>\n",
       "      <th>가구원수_max</th>\n",
       "      <th>가구원수_median</th>\n",
       "      <th>기초생활수급여부_min</th>\n",
       "      <th>기초생활수급여부_mean</th>\n",
       "      <th>기초생활수급여부_max</th>\n",
       "      <th>기초생활수급여부_median</th>\n",
       "      <th>주택형태_min</th>\n",
       "      <th>주택형태_mean</th>\n",
       "      <th>주택형태_max</th>\n",
       "      <th>주택형태_median</th>\n",
       "      <th>월평균가구총소득_min</th>\n",
       "      <th>월평균가구총소득_mean</th>\n",
       "      <th>월평균가구총소득_max</th>\n",
       "      <th>월평균가구총소득_median</th>\n",
       "      <th>결혼여부_min</th>\n",
       "      <th>결혼여부_mean</th>\n",
       "      <th>결혼여부_max</th>\n",
       "      <th>결혼여부_median</th>\n",
       "      <th>결혼상태_min</th>\n",
       "      <th>결혼상태_mean</th>\n",
       "      <th>결혼상태_max</th>\n",
       "      <th>결혼상태_median</th>\n",
       "      <th>주관적건강상태_min</th>\n",
       "      <th>주관적건강상태_mean</th>\n",
       "      <th>주관적건강상태_max</th>\n",
       "      <th>주관적건강상태_median</th>\n",
       "      <th>2주내몸이상여부(주관적)_min</th>\n",
       "      <th>2주내몸이상여부(주관적)_mean</th>\n",
       "      <th>2주내몸이상여부(주관적)_max</th>\n",
       "      <th>2주내몸이상여부(주관적)_median</th>\n",
       "      <th>고혈압진단여부_min</th>\n",
       "      <th>고혈압진단여부_mean</th>\n",
       "      <th>고혈압진단여부_max</th>\n",
       "      <th>고혈압진단여부_median</th>\n",
       "      <th>이상지지혈증진단여부_min</th>\n",
       "      <th>이상지지혈증진단여부_mean</th>\n",
       "      <th>이상지지혈증진단여부_max</th>\n",
       "      <th>이상지지혈증진단여부_median</th>\n",
       "      <th>우울증진단여부_min</th>\n",
       "      <th>...</th>\n",
       "      <th>활동제한여부_max</th>\n",
       "      <th>활동제한여부_median</th>\n",
       "      <th>활동제한사유_min</th>\n",
       "      <th>활동제한사유_mean</th>\n",
       "      <th>활동제한사유_max</th>\n",
       "      <th>활동제한사유_median</th>\n",
       "      <th>불안우울설문_min</th>\n",
       "      <th>불안우울설문_mean</th>\n",
       "      <th>불안우울설문_max</th>\n",
       "      <th>불안우울설문_median</th>\n",
       "      <th>경제활동상태_min</th>\n",
       "      <th>경제활동상태_mean</th>\n",
       "      <th>경제활동상태_max</th>\n",
       "      <th>경제활동상태_median</th>\n",
       "      <th>미취업사유_min</th>\n",
       "      <th>미취업사유_mean</th>\n",
       "      <th>미취업사유_max</th>\n",
       "      <th>미취업사유_median</th>\n",
       "      <th>하루평균수면시간_min</th>\n",
       "      <th>하루평균수면시간_mean</th>\n",
       "      <th>하루평균수면시간_max</th>\n",
       "      <th>하루평균수면시간_median</th>\n",
       "      <th>평소스트레스인지정도_min</th>\n",
       "      <th>평소스트레스인지정도_mean</th>\n",
       "      <th>평소스트레스인지정도_max</th>\n",
       "      <th>평소스트레스인지정도_median</th>\n",
       "      <th>2주이상우울감여부_min</th>\n",
       "      <th>2주이상우울감여부_mean</th>\n",
       "      <th>2주이상우울감여부_max</th>\n",
       "      <th>2주이상우울감여부_median</th>\n",
       "      <th>1년간정신문제상담_min</th>\n",
       "      <th>1년간정신문제상담_mean</th>\n",
       "      <th>1년간정신문제상담_max</th>\n",
       "      <th>1년간정신문제상담_median</th>\n",
       "      <th>1년간자살생각여부_min</th>\n",
       "      <th>1년간자살생각여부_mean</th>\n",
       "      <th>1년간자살생각여부_max</th>\n",
       "      <th>1년간자살생각여부_median</th>\n",
       "      <th>1년간자살계획여부_min</th>\n",
       "      <th>1년간자살계획여부_mean</th>\n",
       "      <th>1년간자살계획여부_max</th>\n",
       "      <th>1년간자살계획여부_median</th>\n",
       "      <th>1년간자살시도여부_min</th>\n",
       "      <th>1년간자살시도여부_mean</th>\n",
       "      <th>1년간자살시도여부_max</th>\n",
       "      <th>1년간자살시도여부_median</th>\n",
       "      <th>당뇨병진단여부_min</th>\n",
       "      <th>당뇨병진단여부_mean</th>\n",
       "      <th>당뇨병진단여부_max</th>\n",
       "      <th>당뇨병진단여부_median</th>\n",
       "    </tr>\n",
       "  </thead>\n",
       "  <tbody>\n",
       "    <tr>\n",
       "      <th>0</th>\n",
       "      <td>1</td>\n",
       "      <td>6</td>\n",
       "      <td>46.566</td>\n",
       "      <td>77</td>\n",
       "      <td>48</td>\n",
       "      <td>0</td>\n",
       "      <td>0.485</td>\n",
       "      <td>1</td>\n",
       "      <td>0</td>\n",
       "      <td>1.0</td>\n",
       "      <td>3.200</td>\n",
       "      <td>5.0</td>\n",
       "      <td>3.0</td>\n",
       "      <td>0</td>\n",
       "      <td>1.083</td>\n",
       "      <td>2</td>\n",
       "      <td>1</td>\n",
       "      <td>0</td>\n",
       "      <td>2.589</td>\n",
       "      <td>4</td>\n",
       "      <td>3</td>\n",
       "      <td>45.0</td>\n",
       "      <td>364.167</td>\n",
       "      <td>955.0</td>\n",
       "      <td>310.000</td>\n",
       "      <td>0</td>\n",
       "      <td>0.275</td>\n",
       "      <td>1</td>\n",
       "      <td>0</td>\n",
       "      <td>0</td>\n",
       "      <td>0.720</td>\n",
       "      <td>5</td>\n",
       "      <td>0</td>\n",
       "      <td>0</td>\n",
       "      <td>2.997</td>\n",
       "      <td>5</td>\n",
       "      <td>3</td>\n",
       "      <td>0</td>\n",
       "      <td>0.009</td>\n",
       "      <td>2</td>\n",
       "      <td>0</td>\n",
       "      <td>0</td>\n",
       "      <td>0.246</td>\n",
       "      <td>3</td>\n",
       "      <td>0</td>\n",
       "      <td>0</td>\n",
       "      <td>0.231</td>\n",
       "      <td>3</td>\n",
       "      <td>0</td>\n",
       "      <td>0</td>\n",
       "      <td>...</td>\n",
       "      <td>2</td>\n",
       "      <td>2</td>\n",
       "      <td>0</td>\n",
       "      <td>0.001</td>\n",
       "      <td>1</td>\n",
       "      <td>0</td>\n",
       "      <td>0</td>\n",
       "      <td>0.999</td>\n",
       "      <td>1</td>\n",
       "      <td>1</td>\n",
       "      <td>0</td>\n",
       "      <td>0.002</td>\n",
       "      <td>2</td>\n",
       "      <td>0</td>\n",
       "      <td>0</td>\n",
       "      <td>1.998</td>\n",
       "      <td>2</td>\n",
       "      <td>2</td>\n",
       "      <td>5.0</td>\n",
       "      <td>6.767</td>\n",
       "      <td>9.0</td>\n",
       "      <td>6.762</td>\n",
       "      <td>0</td>\n",
       "      <td>3.137</td>\n",
       "      <td>5</td>\n",
       "      <td>3</td>\n",
       "      <td>0</td>\n",
       "      <td>0.853</td>\n",
       "      <td>3</td>\n",
       "      <td>0</td>\n",
       "      <td>0</td>\n",
       "      <td>0.784</td>\n",
       "      <td>3</td>\n",
       "      <td>0</td>\n",
       "      <td>0</td>\n",
       "      <td>0.797</td>\n",
       "      <td>3</td>\n",
       "      <td>0</td>\n",
       "      <td>0</td>\n",
       "      <td>0.782</td>\n",
       "      <td>3</td>\n",
       "      <td>0</td>\n",
       "      <td>0</td>\n",
       "      <td>0.782</td>\n",
       "      <td>3</td>\n",
       "      <td>0</td>\n",
       "      <td>0</td>\n",
       "      <td>0.114</td>\n",
       "      <td>2</td>\n",
       "      <td>0</td>\n",
       "    </tr>\n",
       "    <tr>\n",
       "      <th>1</th>\n",
       "      <td>2</td>\n",
       "      <td>19</td>\n",
       "      <td>56.820</td>\n",
       "      <td>77</td>\n",
       "      <td>59</td>\n",
       "      <td>0</td>\n",
       "      <td>0.800</td>\n",
       "      <td>1</td>\n",
       "      <td>1</td>\n",
       "      <td>1.0</td>\n",
       "      <td>2.500</td>\n",
       "      <td>5.0</td>\n",
       "      <td>2.0</td>\n",
       "      <td>0</td>\n",
       "      <td>1.228</td>\n",
       "      <td>2</td>\n",
       "      <td>1</td>\n",
       "      <td>0</td>\n",
       "      <td>2.412</td>\n",
       "      <td>4</td>\n",
       "      <td>2</td>\n",
       "      <td>45.0</td>\n",
       "      <td>275.484</td>\n",
       "      <td>955.0</td>\n",
       "      <td>183.667</td>\n",
       "      <td>0</td>\n",
       "      <td>0.080</td>\n",
       "      <td>1</td>\n",
       "      <td>0</td>\n",
       "      <td>0</td>\n",
       "      <td>1.184</td>\n",
       "      <td>5</td>\n",
       "      <td>0</td>\n",
       "      <td>0</td>\n",
       "      <td>2.356</td>\n",
       "      <td>5</td>\n",
       "      <td>4</td>\n",
       "      <td>0</td>\n",
       "      <td>1.432</td>\n",
       "      <td>2</td>\n",
       "      <td>1</td>\n",
       "      <td>2</td>\n",
       "      <td>2.376</td>\n",
       "      <td>3</td>\n",
       "      <td>2</td>\n",
       "      <td>2</td>\n",
       "      <td>2.344</td>\n",
       "      <td>3</td>\n",
       "      <td>2</td>\n",
       "      <td>3</td>\n",
       "      <td>...</td>\n",
       "      <td>1</td>\n",
       "      <td>1</td>\n",
       "      <td>1</td>\n",
       "      <td>1.416</td>\n",
       "      <td>3</td>\n",
       "      <td>1</td>\n",
       "      <td>0</td>\n",
       "      <td>1.440</td>\n",
       "      <td>4</td>\n",
       "      <td>2</td>\n",
       "      <td>2</td>\n",
       "      <td>2.392</td>\n",
       "      <td>3</td>\n",
       "      <td>2</td>\n",
       "      <td>0</td>\n",
       "      <td>2.724</td>\n",
       "      <td>8</td>\n",
       "      <td>3</td>\n",
       "      <td>5.0</td>\n",
       "      <td>6.684</td>\n",
       "      <td>9.0</td>\n",
       "      <td>7.000</td>\n",
       "      <td>0</td>\n",
       "      <td>2.936</td>\n",
       "      <td>5</td>\n",
       "      <td>2</td>\n",
       "      <td>0</td>\n",
       "      <td>2.424</td>\n",
       "      <td>3</td>\n",
       "      <td>2</td>\n",
       "      <td>0</td>\n",
       "      <td>2.292</td>\n",
       "      <td>3</td>\n",
       "      <td>2</td>\n",
       "      <td>0</td>\n",
       "      <td>2.236</td>\n",
       "      <td>3</td>\n",
       "      <td>2</td>\n",
       "      <td>0</td>\n",
       "      <td>2.056</td>\n",
       "      <td>3</td>\n",
       "      <td>2</td>\n",
       "      <td>0</td>\n",
       "      <td>1.996</td>\n",
       "      <td>3</td>\n",
       "      <td>2</td>\n",
       "      <td>1</td>\n",
       "      <td>1.136</td>\n",
       "      <td>2</td>\n",
       "      <td>1</td>\n",
       "    </tr>\n",
       "    <tr>\n",
       "      <th>2</th>\n",
       "      <td>3</td>\n",
       "      <td>6</td>\n",
       "      <td>12.841</td>\n",
       "      <td>77</td>\n",
       "      <td>10</td>\n",
       "      <td>0</td>\n",
       "      <td>0.476</td>\n",
       "      <td>1</td>\n",
       "      <td>0</td>\n",
       "      <td>1.0</td>\n",
       "      <td>3.969</td>\n",
       "      <td>5.0</td>\n",
       "      <td>4.0</td>\n",
       "      <td>1</td>\n",
       "      <td>1.061</td>\n",
       "      <td>2</td>\n",
       "      <td>1</td>\n",
       "      <td>0</td>\n",
       "      <td>2.720</td>\n",
       "      <td>4</td>\n",
       "      <td>3</td>\n",
       "      <td>45.0</td>\n",
       "      <td>431.099</td>\n",
       "      <td>955.0</td>\n",
       "      <td>410.000</td>\n",
       "      <td>0</td>\n",
       "      <td>0.957</td>\n",
       "      <td>1</td>\n",
       "      <td>1</td>\n",
       "      <td>0</td>\n",
       "      <td>1.012</td>\n",
       "      <td>5</td>\n",
       "      <td>1</td>\n",
       "      <td>0</td>\n",
       "      <td>3.795</td>\n",
       "      <td>5</td>\n",
       "      <td>4</td>\n",
       "      <td>1</td>\n",
       "      <td>1.102</td>\n",
       "      <td>2</td>\n",
       "      <td>1</td>\n",
       "      <td>1</td>\n",
       "      <td>1.063</td>\n",
       "      <td>3</td>\n",
       "      <td>1</td>\n",
       "      <td>1</td>\n",
       "      <td>1.054</td>\n",
       "      <td>3</td>\n",
       "      <td>1</td>\n",
       "      <td>1</td>\n",
       "      <td>...</td>\n",
       "      <td>1</td>\n",
       "      <td>1</td>\n",
       "      <td>1</td>\n",
       "      <td>1.017</td>\n",
       "      <td>3</td>\n",
       "      <td>1</td>\n",
       "      <td>1</td>\n",
       "      <td>2.955</td>\n",
       "      <td>4</td>\n",
       "      <td>3</td>\n",
       "      <td>0</td>\n",
       "      <td>1.283</td>\n",
       "      <td>3</td>\n",
       "      <td>1</td>\n",
       "      <td>0</td>\n",
       "      <td>3.820</td>\n",
       "      <td>8</td>\n",
       "      <td>3</td>\n",
       "      <td>5.0</td>\n",
       "      <td>6.893</td>\n",
       "      <td>9.0</td>\n",
       "      <td>6.762</td>\n",
       "      <td>0</td>\n",
       "      <td>3.704</td>\n",
       "      <td>5</td>\n",
       "      <td>4</td>\n",
       "      <td>0</td>\n",
       "      <td>1.351</td>\n",
       "      <td>3</td>\n",
       "      <td>1</td>\n",
       "      <td>0</td>\n",
       "      <td>1.339</td>\n",
       "      <td>3</td>\n",
       "      <td>1</td>\n",
       "      <td>0</td>\n",
       "      <td>1.338</td>\n",
       "      <td>3</td>\n",
       "      <td>1</td>\n",
       "      <td>0</td>\n",
       "      <td>1.329</td>\n",
       "      <td>3</td>\n",
       "      <td>1</td>\n",
       "      <td>0</td>\n",
       "      <td>1.330</td>\n",
       "      <td>3</td>\n",
       "      <td>1</td>\n",
       "      <td>1</td>\n",
       "      <td>1.007</td>\n",
       "      <td>2</td>\n",
       "      <td>1</td>\n",
       "    </tr>\n",
       "    <tr>\n",
       "      <th>3</th>\n",
       "      <td>4</td>\n",
       "      <td>12</td>\n",
       "      <td>51.013</td>\n",
       "      <td>77</td>\n",
       "      <td>52</td>\n",
       "      <td>0</td>\n",
       "      <td>0.558</td>\n",
       "      <td>1</td>\n",
       "      <td>1</td>\n",
       "      <td>1.0</td>\n",
       "      <td>2.944</td>\n",
       "      <td>5.0</td>\n",
       "      <td>3.0</td>\n",
       "      <td>0</td>\n",
       "      <td>1.074</td>\n",
       "      <td>2</td>\n",
       "      <td>1</td>\n",
       "      <td>0</td>\n",
       "      <td>2.577</td>\n",
       "      <td>4</td>\n",
       "      <td>3</td>\n",
       "      <td>45.0</td>\n",
       "      <td>369.242</td>\n",
       "      <td>955.0</td>\n",
       "      <td>313.667</td>\n",
       "      <td>0</td>\n",
       "      <td>0.168</td>\n",
       "      <td>1</td>\n",
       "      <td>0</td>\n",
       "      <td>0</td>\n",
       "      <td>0.671</td>\n",
       "      <td>5</td>\n",
       "      <td>0</td>\n",
       "      <td>0</td>\n",
       "      <td>3.431</td>\n",
       "      <td>5</td>\n",
       "      <td>4</td>\n",
       "      <td>0</td>\n",
       "      <td>1.187</td>\n",
       "      <td>2</td>\n",
       "      <td>1</td>\n",
       "      <td>1</td>\n",
       "      <td>2.247</td>\n",
       "      <td>3</td>\n",
       "      <td>2</td>\n",
       "      <td>1</td>\n",
       "      <td>2.158</td>\n",
       "      <td>3</td>\n",
       "      <td>2</td>\n",
       "      <td>0</td>\n",
       "      <td>...</td>\n",
       "      <td>2</td>\n",
       "      <td>1</td>\n",
       "      <td>0</td>\n",
       "      <td>1.078</td>\n",
       "      <td>3</td>\n",
       "      <td>1</td>\n",
       "      <td>0</td>\n",
       "      <td>1.822</td>\n",
       "      <td>4</td>\n",
       "      <td>2</td>\n",
       "      <td>0</td>\n",
       "      <td>2.578</td>\n",
       "      <td>3</td>\n",
       "      <td>3</td>\n",
       "      <td>0</td>\n",
       "      <td>3.342</td>\n",
       "      <td>8</td>\n",
       "      <td>3</td>\n",
       "      <td>5.0</td>\n",
       "      <td>6.745</td>\n",
       "      <td>9.0</td>\n",
       "      <td>7.000</td>\n",
       "      <td>0</td>\n",
       "      <td>3.299</td>\n",
       "      <td>5</td>\n",
       "      <td>5</td>\n",
       "      <td>0</td>\n",
       "      <td>2.116</td>\n",
       "      <td>3</td>\n",
       "      <td>2</td>\n",
       "      <td>0</td>\n",
       "      <td>2.011</td>\n",
       "      <td>3</td>\n",
       "      <td>2</td>\n",
       "      <td>0</td>\n",
       "      <td>2.042</td>\n",
       "      <td>3</td>\n",
       "      <td>2</td>\n",
       "      <td>0</td>\n",
       "      <td>2.010</td>\n",
       "      <td>3</td>\n",
       "      <td>2</td>\n",
       "      <td>0</td>\n",
       "      <td>2.003</td>\n",
       "      <td>3</td>\n",
       "      <td>2</td>\n",
       "      <td>0</td>\n",
       "      <td>1.092</td>\n",
       "      <td>2</td>\n",
       "      <td>1</td>\n",
       "    </tr>\n",
       "  </tbody>\n",
       "</table>\n",
       "<p>4 rows × 117 columns</p>\n",
       "</div>"
      ],
      "text/plain": [
       "   ClusterKmeans  age_min  age_mean  age_max  age_median  성별_min  성별_mean  \\\n",
       "0              1        6    46.566       77          48       0    0.485   \n",
       "1              2       19    56.820       77          59       0    0.800   \n",
       "2              3        6    12.841       77          10       0    0.476   \n",
       "3              4       12    51.013       77          52       0    0.558   \n",
       "\n",
       "   성별_max  성별_median  가구원수_min  가구원수_mean  가구원수_max  가구원수_median  \\\n",
       "0       1          0       1.0      3.200       5.0          3.0   \n",
       "1       1          1       1.0      2.500       5.0          2.0   \n",
       "2       1          0       1.0      3.969       5.0          4.0   \n",
       "3       1          1       1.0      2.944       5.0          3.0   \n",
       "\n",
       "   기초생활수급여부_min  기초생활수급여부_mean  기초생활수급여부_max  기초생활수급여부_median  주택형태_min  \\\n",
       "0             0          1.083             2                1         0   \n",
       "1             0          1.228             2                1         0   \n",
       "2             1          1.061             2                1         0   \n",
       "3             0          1.074             2                1         0   \n",
       "\n",
       "   주택형태_mean  주택형태_max  주택형태_median  월평균가구총소득_min  월평균가구총소득_mean  \\\n",
       "0      2.589         4            3          45.0        364.167   \n",
       "1      2.412         4            2          45.0        275.484   \n",
       "2      2.720         4            3          45.0        431.099   \n",
       "3      2.577         4            3          45.0        369.242   \n",
       "\n",
       "   월평균가구총소득_max  월평균가구총소득_median  결혼여부_min  결혼여부_mean  결혼여부_max  결혼여부_median  \\\n",
       "0         955.0          310.000         0      0.275         1            0   \n",
       "1         955.0          183.667         0      0.080         1            0   \n",
       "2         955.0          410.000         0      0.957         1            1   \n",
       "3         955.0          313.667         0      0.168         1            0   \n",
       "\n",
       "   결혼상태_min  결혼상태_mean  결혼상태_max  결혼상태_median  주관적건강상태_min  주관적건강상태_mean  \\\n",
       "0         0      0.720         5            0            0         2.997   \n",
       "1         0      1.184         5            0            0         2.356   \n",
       "2         0      1.012         5            1            0         3.795   \n",
       "3         0      0.671         5            0            0         3.431   \n",
       "\n",
       "   주관적건강상태_max  주관적건강상태_median  2주내몸이상여부(주관적)_min  2주내몸이상여부(주관적)_mean  \\\n",
       "0            5               3                  0               0.009   \n",
       "1            5               4                  0               1.432   \n",
       "2            5               4                  1               1.102   \n",
       "3            5               4                  0               1.187   \n",
       "\n",
       "   2주내몸이상여부(주관적)_max  2주내몸이상여부(주관적)_median  고혈압진단여부_min  고혈압진단여부_mean  \\\n",
       "0                  2                     0            0         0.246   \n",
       "1                  2                     1            2         2.376   \n",
       "2                  2                     1            1         1.063   \n",
       "3                  2                     1            1         2.247   \n",
       "\n",
       "   고혈압진단여부_max  고혈압진단여부_median  이상지지혈증진단여부_min  이상지지혈증진단여부_mean  \\\n",
       "0            3               0               0            0.231   \n",
       "1            3               2               2            2.344   \n",
       "2            3               1               1            1.054   \n",
       "3            3               2               1            2.158   \n",
       "\n",
       "   이상지지혈증진단여부_max  이상지지혈증진단여부_median  우울증진단여부_min  ...  활동제한여부_max  \\\n",
       "0               3                  0            0  ...           2   \n",
       "1               3                  2            3  ...           1   \n",
       "2               3                  1            1  ...           1   \n",
       "3               3                  2            0  ...           2   \n",
       "\n",
       "   활동제한여부_median  활동제한사유_min  활동제한사유_mean  활동제한사유_max  활동제한사유_median  \\\n",
       "0              2           0        0.001           1              0   \n",
       "1              1           1        1.416           3              1   \n",
       "2              1           1        1.017           3              1   \n",
       "3              1           0        1.078           3              1   \n",
       "\n",
       "   불안우울설문_min  불안우울설문_mean  불안우울설문_max  불안우울설문_median  경제활동상태_min  \\\n",
       "0           0        0.999           1              1           0   \n",
       "1           0        1.440           4              2           2   \n",
       "2           1        2.955           4              3           0   \n",
       "3           0        1.822           4              2           0   \n",
       "\n",
       "   경제활동상태_mean  경제활동상태_max  경제활동상태_median  미취업사유_min  미취업사유_mean  미취업사유_max  \\\n",
       "0        0.002           2              0          0       1.998          2   \n",
       "1        2.392           3              2          0       2.724          8   \n",
       "2        1.283           3              1          0       3.820          8   \n",
       "3        2.578           3              3          0       3.342          8   \n",
       "\n",
       "   미취업사유_median  하루평균수면시간_min  하루평균수면시간_mean  하루평균수면시간_max  하루평균수면시간_median  \\\n",
       "0             2           5.0          6.767           9.0            6.762   \n",
       "1             3           5.0          6.684           9.0            7.000   \n",
       "2             3           5.0          6.893           9.0            6.762   \n",
       "3             3           5.0          6.745           9.0            7.000   \n",
       "\n",
       "   평소스트레스인지정도_min  평소스트레스인지정도_mean  평소스트레스인지정도_max  평소스트레스인지정도_median  \\\n",
       "0               0            3.137               5                  3   \n",
       "1               0            2.936               5                  2   \n",
       "2               0            3.704               5                  4   \n",
       "3               0            3.299               5                  5   \n",
       "\n",
       "   2주이상우울감여부_min  2주이상우울감여부_mean  2주이상우울감여부_max  2주이상우울감여부_median  \\\n",
       "0              0           0.853              3                 0   \n",
       "1              0           2.424              3                 2   \n",
       "2              0           1.351              3                 1   \n",
       "3              0           2.116              3                 2   \n",
       "\n",
       "   1년간정신문제상담_min  1년간정신문제상담_mean  1년간정신문제상담_max  1년간정신문제상담_median  \\\n",
       "0              0           0.784              3                 0   \n",
       "1              0           2.292              3                 2   \n",
       "2              0           1.339              3                 1   \n",
       "3              0           2.011              3                 2   \n",
       "\n",
       "   1년간자살생각여부_min  1년간자살생각여부_mean  1년간자살생각여부_max  1년간자살생각여부_median  \\\n",
       "0              0           0.797              3                 0   \n",
       "1              0           2.236              3                 2   \n",
       "2              0           1.338              3                 1   \n",
       "3              0           2.042              3                 2   \n",
       "\n",
       "   1년간자살계획여부_min  1년간자살계획여부_mean  1년간자살계획여부_max  1년간자살계획여부_median  \\\n",
       "0              0           0.782              3                 0   \n",
       "1              0           2.056              3                 2   \n",
       "2              0           1.329              3                 1   \n",
       "3              0           2.010              3                 2   \n",
       "\n",
       "   1년간자살시도여부_min  1년간자살시도여부_mean  1년간자살시도여부_max  1년간자살시도여부_median  \\\n",
       "0              0           0.782              3                 0   \n",
       "1              0           1.996              3                 2   \n",
       "2              0           1.330              3                 1   \n",
       "3              0           2.003              3                 2   \n",
       "\n",
       "   당뇨병진단여부_min  당뇨병진단여부_mean  당뇨병진단여부_max  당뇨병진단여부_median  \n",
       "0            0         0.114            2               0  \n",
       "1            1         1.136            2               1  \n",
       "2            1         1.007            2               1  \n",
       "3            0         1.092            2               1  \n",
       "\n",
       "[4 rows x 117 columns]"
      ]
     },
     "execution_count": 61,
     "metadata": {},
     "output_type": "execute_result"
    }
   ],
   "source": [
    "df1_summary = df1.groupby('ClusterKmeans').agg(['min', 'mean', 'max', 'median'])\n",
    "level0 = df1_summary.columns.get_level_values(0)\n",
    "level1 = df1_summary.columns.get_level_values(1)\n",
    "df1_summary.columns = level0 + '_' + level1\n",
    "df1_summary.reset_index(inplace=True)\n",
    "df1_summary.round(3)"
   ]
  },
  {
   "cell_type": "markdown",
   "metadata": {},
   "source": [
    "### 군집 간 월평균소득의 차이가 있는지 통계적 가설검정 실시\n",
    "(ANOVA Test 활용)"
   ]
  },
  {
   "cell_type": "code",
   "execution_count": 62,
   "metadata": {},
   "outputs": [
    {
     "data": {
      "text/html": [
       "<div>\n",
       "<style scoped>\n",
       "    .dataframe tbody tr th:only-of-type {\n",
       "        vertical-align: middle;\n",
       "    }\n",
       "\n",
       "    .dataframe tbody tr th {\n",
       "        vertical-align: top;\n",
       "    }\n",
       "\n",
       "    .dataframe thead th {\n",
       "        text-align: right;\n",
       "    }\n",
       "</style>\n",
       "<table border=\"1\" class=\"dataframe\">\n",
       "  <thead>\n",
       "    <tr style=\"text-align: right;\">\n",
       "      <th></th>\n",
       "      <th>ClusterKmeans</th>\n",
       "      <th>월평균가구총소득</th>\n",
       "    </tr>\n",
       "  </thead>\n",
       "  <tbody>\n",
       "    <tr>\n",
       "      <th>0</th>\n",
       "      <td>4</td>\n",
       "      <td>275.000000</td>\n",
       "    </tr>\n",
       "    <tr>\n",
       "      <th>1</th>\n",
       "      <td>1</td>\n",
       "      <td>275.000000</td>\n",
       "    </tr>\n",
       "    <tr>\n",
       "      <th>2</th>\n",
       "      <td>4</td>\n",
       "      <td>125.000000</td>\n",
       "    </tr>\n",
       "    <tr>\n",
       "      <th>3</th>\n",
       "      <td>4</td>\n",
       "      <td>125.000000</td>\n",
       "    </tr>\n",
       "    <tr>\n",
       "      <th>4</th>\n",
       "      <td>4</td>\n",
       "      <td>45.000000</td>\n",
       "    </tr>\n",
       "    <tr>\n",
       "      <th>...</th>\n",
       "      <td>...</td>\n",
       "      <td>...</td>\n",
       "    </tr>\n",
       "    <tr>\n",
       "      <th>7375</th>\n",
       "      <td>4</td>\n",
       "      <td>178.333333</td>\n",
       "    </tr>\n",
       "    <tr>\n",
       "      <th>7376</th>\n",
       "      <td>4</td>\n",
       "      <td>50.000000</td>\n",
       "    </tr>\n",
       "    <tr>\n",
       "      <th>7377</th>\n",
       "      <td>2</td>\n",
       "      <td>57.333333</td>\n",
       "    </tr>\n",
       "    <tr>\n",
       "      <th>7378</th>\n",
       "      <td>4</td>\n",
       "      <td>57.333333</td>\n",
       "    </tr>\n",
       "    <tr>\n",
       "      <th>7379</th>\n",
       "      <td>4</td>\n",
       "      <td>110.000000</td>\n",
       "    </tr>\n",
       "  </tbody>\n",
       "</table>\n",
       "<p>7380 rows × 2 columns</p>\n",
       "</div>"
      ],
      "text/plain": [
       "      ClusterKmeans    월평균가구총소득\n",
       "0                 4  275.000000\n",
       "1                 1  275.000000\n",
       "2                 4  125.000000\n",
       "3                 4  125.000000\n",
       "4                 4   45.000000\n",
       "...             ...         ...\n",
       "7375              4  178.333333\n",
       "7376              4   50.000000\n",
       "7377              2   57.333333\n",
       "7378              4   57.333333\n",
       "7379              4  110.000000\n",
       "\n",
       "[7380 rows x 2 columns]"
      ]
     },
     "execution_count": 62,
     "metadata": {},
     "output_type": "execute_result"
    }
   ],
   "source": [
    "df1[['ClusterKmeans', '월평균가구총소득']]"
   ]
  },
  {
   "cell_type": "code",
   "execution_count": 63,
   "metadata": {},
   "outputs": [
    {
     "data": {
      "text/html": [
       "<div>\n",
       "<style scoped>\n",
       "    .dataframe tbody tr th:only-of-type {\n",
       "        vertical-align: middle;\n",
       "    }\n",
       "\n",
       "    .dataframe tbody tr th {\n",
       "        vertical-align: top;\n",
       "    }\n",
       "\n",
       "    .dataframe thead th {\n",
       "        text-align: right;\n",
       "    }\n",
       "</style>\n",
       "<table border=\"1\" class=\"dataframe\">\n",
       "  <thead>\n",
       "    <tr style=\"text-align: right;\">\n",
       "      <th></th>\n",
       "      <th>sum_sq</th>\n",
       "      <th>df</th>\n",
       "      <th>F</th>\n",
       "      <th>PR(&gt;F)</th>\n",
       "    </tr>\n",
       "  </thead>\n",
       "  <tbody>\n",
       "    <tr>\n",
       "      <th>C(ClusterKmeans)</th>\n",
       "      <td>7.077304e+06</td>\n",
       "      <td>3.0</td>\n",
       "      <td>36.391884</td>\n",
       "      <td>2.445272e-23</td>\n",
       "    </tr>\n",
       "    <tr>\n",
       "      <th>Residual</th>\n",
       "      <td>4.781487e+08</td>\n",
       "      <td>7376.0</td>\n",
       "      <td>NaN</td>\n",
       "      <td>NaN</td>\n",
       "    </tr>\n",
       "  </tbody>\n",
       "</table>\n",
       "</div>"
      ],
      "text/plain": [
       "                        sum_sq      df          F        PR(>F)\n",
       "C(ClusterKmeans)  7.077304e+06     3.0  36.391884  2.445272e-23\n",
       "Residual          4.781487e+08  7376.0        NaN           NaN"
      ]
     },
     "execution_count": 63,
     "metadata": {},
     "output_type": "execute_result"
    }
   ],
   "source": [
    "import statsmodels.api as sm\n",
    "from statsmodels.formula.api import ols\n",
    "\n",
    "model = ols('월평균가구총소득 ~ C(ClusterKmeans)', data = df1).fit()\n",
    "anova_table = sm.stats.anova_lm(model, typ=2)\n",
    "anova_table"
   ]
  },
  {
   "cell_type": "markdown",
   "metadata": {},
   "source": [
    "p-value가 유의수준 0.05보다 작으므로 귀무가설을 기각하고 대립가설을 채택한다. 따라서 군집별 월평균가구총소득 평균의 차이가 있다.\n",
    "\n",
    "* 귀무가설 : 군집별 월평균가구총소득 평균의 차이가 없다.\n",
    "* 대립가설 : 군집별 월평균가구총소득 평균의 차이가 있다.\n",
    "* 통계적 결론 : 군집별 월평균가구총소득 평균의 차이가 있다."
   ]
  },
  {
   "cell_type": "markdown",
   "metadata": {},
   "source": [
    "### PCA dimension reduction\n",
    "(2차원으로 축소 실시)"
   ]
  },
  {
   "cell_type": "code",
   "execution_count": 64,
   "metadata": {},
   "outputs": [
    {
     "name": "stdout",
     "output_type": "stream",
     "text": [
      "(7380, 2)\n"
     ]
    }
   ],
   "source": [
    "from sklearn.decomposition import PCA\n",
    "\n",
    "pca = PCA(n_components=2)\n",
    "\n",
    "#fit( )과 transform( ) 을 호출하여 PCA 변환 데이터 반환\n",
    "pca.fit(df1_scaled)\n",
    "df1_pca = pca.transform(df1_scaled)\n",
    "print(df1_pca.shape)"
   ]
  },
  {
   "cell_type": "code",
   "execution_count": 65,
   "metadata": {},
   "outputs": [
    {
     "data": {
      "text/html": [
       "<div>\n",
       "<style scoped>\n",
       "    .dataframe tbody tr th:only-of-type {\n",
       "        vertical-align: middle;\n",
       "    }\n",
       "\n",
       "    .dataframe tbody tr th {\n",
       "        vertical-align: top;\n",
       "    }\n",
       "\n",
       "    .dataframe thead th {\n",
       "        text-align: right;\n",
       "    }\n",
       "</style>\n",
       "<table border=\"1\" class=\"dataframe\">\n",
       "  <thead>\n",
       "    <tr style=\"text-align: right;\">\n",
       "      <th></th>\n",
       "      <th>pca_component_1</th>\n",
       "      <th>pca_component_2</th>\n",
       "    </tr>\n",
       "  </thead>\n",
       "  <tbody>\n",
       "    <tr>\n",
       "      <th>0</th>\n",
       "      <td>-1.680560</td>\n",
       "      <td>0.354172</td>\n",
       "    </tr>\n",
       "    <tr>\n",
       "      <th>1</th>\n",
       "      <td>9.058396</td>\n",
       "      <td>0.224191</td>\n",
       "    </tr>\n",
       "    <tr>\n",
       "      <th>2</th>\n",
       "      <td>-1.617819</td>\n",
       "      <td>1.615640</td>\n",
       "    </tr>\n",
       "    <tr>\n",
       "      <th>3</th>\n",
       "      <td>-1.082119</td>\n",
       "      <td>-0.238757</td>\n",
       "    </tr>\n",
       "    <tr>\n",
       "      <th>4</th>\n",
       "      <td>-1.398024</td>\n",
       "      <td>-0.940581</td>\n",
       "    </tr>\n",
       "    <tr>\n",
       "      <th>...</th>\n",
       "      <td>...</td>\n",
       "      <td>...</td>\n",
       "    </tr>\n",
       "    <tr>\n",
       "      <th>7375</th>\n",
       "      <td>-1.392863</td>\n",
       "      <td>1.293646</td>\n",
       "    </tr>\n",
       "    <tr>\n",
       "      <th>7376</th>\n",
       "      <td>-2.051838</td>\n",
       "      <td>2.714760</td>\n",
       "    </tr>\n",
       "    <tr>\n",
       "      <th>7377</th>\n",
       "      <td>-5.583307</td>\n",
       "      <td>-0.302481</td>\n",
       "    </tr>\n",
       "    <tr>\n",
       "      <th>7378</th>\n",
       "      <td>-2.270716</td>\n",
       "      <td>1.426346</td>\n",
       "    </tr>\n",
       "    <tr>\n",
       "      <th>7379</th>\n",
       "      <td>-2.213867</td>\n",
       "      <td>1.226326</td>\n",
       "    </tr>\n",
       "  </tbody>\n",
       "</table>\n",
       "<p>7380 rows × 2 columns</p>\n",
       "</div>"
      ],
      "text/plain": [
       "      pca_component_1  pca_component_2\n",
       "0           -1.680560         0.354172\n",
       "1            9.058396         0.224191\n",
       "2           -1.617819         1.615640\n",
       "3           -1.082119        -0.238757\n",
       "4           -1.398024        -0.940581\n",
       "...               ...              ...\n",
       "7375        -1.392863         1.293646\n",
       "7376        -2.051838         2.714760\n",
       "7377        -5.583307        -0.302481\n",
       "7378        -2.270716         1.426346\n",
       "7379        -2.213867         1.226326\n",
       "\n",
       "[7380 rows x 2 columns]"
      ]
     },
     "execution_count": 65,
     "metadata": {},
     "output_type": "execute_result"
    }
   ],
   "source": [
    "# PCA 변환된 데이터의 컬럼명을 각각 pca_component_1, pca_component_2로 명명\n",
    "pca_columns=['pca_component_1','pca_component_2']\n",
    "df1_pca = pd.DataFrame(df1_pca,columns=pca_columns)\n",
    "df1_pca"
   ]
  },
  {
   "cell_type": "markdown",
   "metadata": {},
   "source": [
    "###  차원 축소된 Column을 이용하여 K-means 군집분석 실시\n",
    "\n",
    "(4개 군집 형성)"
   ]
  },
  {
   "cell_type": "code",
   "execution_count": 66,
   "metadata": {},
   "outputs": [
    {
     "data": {
      "text/html": [
       "<div>\n",
       "<style scoped>\n",
       "    .dataframe tbody tr th:only-of-type {\n",
       "        vertical-align: middle;\n",
       "    }\n",
       "\n",
       "    .dataframe tbody tr th {\n",
       "        vertical-align: top;\n",
       "    }\n",
       "\n",
       "    .dataframe thead th {\n",
       "        text-align: right;\n",
       "    }\n",
       "</style>\n",
       "<table border=\"1\" class=\"dataframe\">\n",
       "  <thead>\n",
       "    <tr style=\"text-align: right;\">\n",
       "      <th></th>\n",
       "      <th>pca_component_1</th>\n",
       "      <th>pca_component_2</th>\n",
       "      <th>ClusterKmeans_pca</th>\n",
       "    </tr>\n",
       "  </thead>\n",
       "  <tbody>\n",
       "    <tr>\n",
       "      <th>0</th>\n",
       "      <td>-1.680560</td>\n",
       "      <td>0.354172</td>\n",
       "      <td>1</td>\n",
       "    </tr>\n",
       "    <tr>\n",
       "      <th>1</th>\n",
       "      <td>9.058396</td>\n",
       "      <td>0.224191</td>\n",
       "      <td>4</td>\n",
       "    </tr>\n",
       "    <tr>\n",
       "      <th>2</th>\n",
       "      <td>-1.617819</td>\n",
       "      <td>1.615640</td>\n",
       "      <td>1</td>\n",
       "    </tr>\n",
       "    <tr>\n",
       "      <th>3</th>\n",
       "      <td>-1.082119</td>\n",
       "      <td>-0.238757</td>\n",
       "      <td>1</td>\n",
       "    </tr>\n",
       "    <tr>\n",
       "      <th>4</th>\n",
       "      <td>-1.398024</td>\n",
       "      <td>-0.940581</td>\n",
       "      <td>1</td>\n",
       "    </tr>\n",
       "    <tr>\n",
       "      <th>...</th>\n",
       "      <td>...</td>\n",
       "      <td>...</td>\n",
       "      <td>...</td>\n",
       "    </tr>\n",
       "    <tr>\n",
       "      <th>7375</th>\n",
       "      <td>-1.392863</td>\n",
       "      <td>1.293646</td>\n",
       "      <td>1</td>\n",
       "    </tr>\n",
       "    <tr>\n",
       "      <th>7376</th>\n",
       "      <td>-2.051838</td>\n",
       "      <td>2.714760</td>\n",
       "      <td>1</td>\n",
       "    </tr>\n",
       "    <tr>\n",
       "      <th>7377</th>\n",
       "      <td>-5.583307</td>\n",
       "      <td>-0.302481</td>\n",
       "      <td>1</td>\n",
       "    </tr>\n",
       "    <tr>\n",
       "      <th>7378</th>\n",
       "      <td>-2.270716</td>\n",
       "      <td>1.426346</td>\n",
       "      <td>1</td>\n",
       "    </tr>\n",
       "    <tr>\n",
       "      <th>7379</th>\n",
       "      <td>-2.213867</td>\n",
       "      <td>1.226326</td>\n",
       "      <td>1</td>\n",
       "    </tr>\n",
       "  </tbody>\n",
       "</table>\n",
       "<p>7380 rows × 3 columns</p>\n",
       "</div>"
      ],
      "text/plain": [
       "      pca_component_1  pca_component_2  ClusterKmeans_pca\n",
       "0           -1.680560         0.354172                  1\n",
       "1            9.058396         0.224191                  4\n",
       "2           -1.617819         1.615640                  1\n",
       "3           -1.082119        -0.238757                  1\n",
       "4           -1.398024        -0.940581                  1\n",
       "...               ...              ...                ...\n",
       "7375        -1.392863         1.293646                  1\n",
       "7376        -2.051838         2.714760                  1\n",
       "7377        -5.583307        -0.302481                  1\n",
       "7378        -2.270716         1.426346                  1\n",
       "7379        -2.213867         1.226326                  1\n",
       "\n",
       "[7380 rows x 3 columns]"
      ]
     },
     "execution_count": 66,
     "metadata": {},
     "output_type": "execute_result"
    }
   ],
   "source": [
    "clus = KMeans(4)\n",
    "clus.fit(df1_pca)\n",
    "cluster_KMeans = [i+1 for i in clus.labels_]\n",
    "df1_pca['ClusterKmeans_pca'] = cluster_KMeans\n",
    "df1_pca"
   ]
  },
  {
   "cell_type": "markdown",
   "metadata": {},
   "source": [
    "### 차원축소 후 군집 간 월평균소득의 차이가 있는지 통계적 가설검정 실시"
   ]
  },
  {
   "cell_type": "code",
   "execution_count": 67,
   "metadata": {},
   "outputs": [],
   "source": [
    "df1['pca_component_1'] = df1_pca['pca_component_1']\n",
    "df1['pca_component_2'] = df1_pca['pca_component_2']\n",
    "df1['ClusterKmeans_pca'] = df1_pca['ClusterKmeans_pca']"
   ]
  },
  {
   "cell_type": "code",
   "execution_count": 68,
   "metadata": {},
   "outputs": [
    {
     "data": {
      "text/html": [
       "<div>\n",
       "<style scoped>\n",
       "    .dataframe tbody tr th:only-of-type {\n",
       "        vertical-align: middle;\n",
       "    }\n",
       "\n",
       "    .dataframe tbody tr th {\n",
       "        vertical-align: top;\n",
       "    }\n",
       "\n",
       "    .dataframe thead th {\n",
       "        text-align: right;\n",
       "    }\n",
       "</style>\n",
       "<table border=\"1\" class=\"dataframe\">\n",
       "  <thead>\n",
       "    <tr style=\"text-align: right;\">\n",
       "      <th></th>\n",
       "      <th>age</th>\n",
       "      <th>성별</th>\n",
       "      <th>가구원수</th>\n",
       "      <th>기초생활수급여부</th>\n",
       "      <th>주택형태</th>\n",
       "      <th>월평균가구총소득</th>\n",
       "      <th>결혼여부</th>\n",
       "      <th>결혼상태</th>\n",
       "      <th>주관적건강상태</th>\n",
       "      <th>2주내몸이상여부(주관적)</th>\n",
       "      <th>고혈압진단여부</th>\n",
       "      <th>이상지지혈증진단여부</th>\n",
       "      <th>우울증진단여부</th>\n",
       "      <th>우울증진단시기</th>\n",
       "      <th>우울증현재유병여부</th>\n",
       "      <th>우울증치료</th>\n",
       "      <th>활동제한여부</th>\n",
       "      <th>활동제한사유</th>\n",
       "      <th>불안우울설문</th>\n",
       "      <th>경제활동상태</th>\n",
       "      <th>미취업사유</th>\n",
       "      <th>하루평균수면시간</th>\n",
       "      <th>평소스트레스인지정도</th>\n",
       "      <th>2주이상우울감여부</th>\n",
       "      <th>1년간정신문제상담</th>\n",
       "      <th>1년간자살생각여부</th>\n",
       "      <th>1년간자살계획여부</th>\n",
       "      <th>1년간자살시도여부</th>\n",
       "      <th>당뇨병진단여부</th>\n",
       "      <th>ClusterKmeans</th>\n",
       "      <th>pca_component_1</th>\n",
       "      <th>pca_component_2</th>\n",
       "      <th>ClusterKmeans_pca</th>\n",
       "    </tr>\n",
       "  </thead>\n",
       "  <tbody>\n",
       "    <tr>\n",
       "      <th>0</th>\n",
       "      <td>43</td>\n",
       "      <td>1</td>\n",
       "      <td>4.0</td>\n",
       "      <td>1</td>\n",
       "      <td>1</td>\n",
       "      <td>275.000000</td>\n",
       "      <td>0</td>\n",
       "      <td>0</td>\n",
       "      <td>0</td>\n",
       "      <td>2</td>\n",
       "      <td>2</td>\n",
       "      <td>2</td>\n",
       "      <td>2</td>\n",
       "      <td>0.0</td>\n",
       "      <td>1</td>\n",
       "      <td>1</td>\n",
       "      <td>1</td>\n",
       "      <td>1</td>\n",
       "      <td>2</td>\n",
       "      <td>3</td>\n",
       "      <td>3</td>\n",
       "      <td>7.000000</td>\n",
       "      <td>5</td>\n",
       "      <td>2</td>\n",
       "      <td>2</td>\n",
       "      <td>2</td>\n",
       "      <td>2</td>\n",
       "      <td>2</td>\n",
       "      <td>1</td>\n",
       "      <td>4</td>\n",
       "      <td>-1.680560</td>\n",
       "      <td>0.354172</td>\n",
       "      <td>1</td>\n",
       "    </tr>\n",
       "    <tr>\n",
       "      <th>1</th>\n",
       "      <td>10</td>\n",
       "      <td>0</td>\n",
       "      <td>4.0</td>\n",
       "      <td>1</td>\n",
       "      <td>1</td>\n",
       "      <td>275.000000</td>\n",
       "      <td>1</td>\n",
       "      <td>1</td>\n",
       "      <td>3</td>\n",
       "      <td>0</td>\n",
       "      <td>0</td>\n",
       "      <td>0</td>\n",
       "      <td>0</td>\n",
       "      <td>0.0</td>\n",
       "      <td>0</td>\n",
       "      <td>0</td>\n",
       "      <td>2</td>\n",
       "      <td>0</td>\n",
       "      <td>1</td>\n",
       "      <td>0</td>\n",
       "      <td>2</td>\n",
       "      <td>6.762435</td>\n",
       "      <td>3</td>\n",
       "      <td>0</td>\n",
       "      <td>0</td>\n",
       "      <td>0</td>\n",
       "      <td>0</td>\n",
       "      <td>0</td>\n",
       "      <td>0</td>\n",
       "      <td>1</td>\n",
       "      <td>9.058396</td>\n",
       "      <td>0.224191</td>\n",
       "      <td>4</td>\n",
       "    </tr>\n",
       "    <tr>\n",
       "      <th>2</th>\n",
       "      <td>61</td>\n",
       "      <td>1</td>\n",
       "      <td>2.0</td>\n",
       "      <td>1</td>\n",
       "      <td>2</td>\n",
       "      <td>125.000000</td>\n",
       "      <td>0</td>\n",
       "      <td>5</td>\n",
       "      <td>0</td>\n",
       "      <td>1</td>\n",
       "      <td>2</td>\n",
       "      <td>2</td>\n",
       "      <td>2</td>\n",
       "      <td>0.0</td>\n",
       "      <td>1</td>\n",
       "      <td>1</td>\n",
       "      <td>1</td>\n",
       "      <td>1</td>\n",
       "      <td>2</td>\n",
       "      <td>2</td>\n",
       "      <td>4</td>\n",
       "      <td>8.000000</td>\n",
       "      <td>5</td>\n",
       "      <td>3</td>\n",
       "      <td>2</td>\n",
       "      <td>2</td>\n",
       "      <td>2</td>\n",
       "      <td>2</td>\n",
       "      <td>1</td>\n",
       "      <td>4</td>\n",
       "      <td>-1.617819</td>\n",
       "      <td>1.615640</td>\n",
       "      <td>1</td>\n",
       "    </tr>\n",
       "    <tr>\n",
       "      <th>3</th>\n",
       "      <td>35</td>\n",
       "      <td>0</td>\n",
       "      <td>2.0</td>\n",
       "      <td>1</td>\n",
       "      <td>2</td>\n",
       "      <td>125.000000</td>\n",
       "      <td>1</td>\n",
       "      <td>1</td>\n",
       "      <td>4</td>\n",
       "      <td>1</td>\n",
       "      <td>2</td>\n",
       "      <td>2</td>\n",
       "      <td>2</td>\n",
       "      <td>0.0</td>\n",
       "      <td>1</td>\n",
       "      <td>1</td>\n",
       "      <td>1</td>\n",
       "      <td>1</td>\n",
       "      <td>2</td>\n",
       "      <td>3</td>\n",
       "      <td>3</td>\n",
       "      <td>8.000000</td>\n",
       "      <td>2</td>\n",
       "      <td>2</td>\n",
       "      <td>2</td>\n",
       "      <td>2</td>\n",
       "      <td>2</td>\n",
       "      <td>2</td>\n",
       "      <td>1</td>\n",
       "      <td>4</td>\n",
       "      <td>-1.082119</td>\n",
       "      <td>-0.238757</td>\n",
       "      <td>1</td>\n",
       "    </tr>\n",
       "    <tr>\n",
       "      <th>4</th>\n",
       "      <td>20</td>\n",
       "      <td>0</td>\n",
       "      <td>1.0</td>\n",
       "      <td>1</td>\n",
       "      <td>2</td>\n",
       "      <td>45.000000</td>\n",
       "      <td>1</td>\n",
       "      <td>1</td>\n",
       "      <td>5</td>\n",
       "      <td>2</td>\n",
       "      <td>2</td>\n",
       "      <td>2</td>\n",
       "      <td>2</td>\n",
       "      <td>0.0</td>\n",
       "      <td>1</td>\n",
       "      <td>1</td>\n",
       "      <td>1</td>\n",
       "      <td>1</td>\n",
       "      <td>2</td>\n",
       "      <td>2</td>\n",
       "      <td>8</td>\n",
       "      <td>6.000000</td>\n",
       "      <td>2</td>\n",
       "      <td>2</td>\n",
       "      <td>2</td>\n",
       "      <td>2</td>\n",
       "      <td>2</td>\n",
       "      <td>2</td>\n",
       "      <td>1</td>\n",
       "      <td>4</td>\n",
       "      <td>-1.398024</td>\n",
       "      <td>-0.940581</td>\n",
       "      <td>1</td>\n",
       "    </tr>\n",
       "    <tr>\n",
       "      <th>...</th>\n",
       "      <td>...</td>\n",
       "      <td>...</td>\n",
       "      <td>...</td>\n",
       "      <td>...</td>\n",
       "      <td>...</td>\n",
       "      <td>...</td>\n",
       "      <td>...</td>\n",
       "      <td>...</td>\n",
       "      <td>...</td>\n",
       "      <td>...</td>\n",
       "      <td>...</td>\n",
       "      <td>...</td>\n",
       "      <td>...</td>\n",
       "      <td>...</td>\n",
       "      <td>...</td>\n",
       "      <td>...</td>\n",
       "      <td>...</td>\n",
       "      <td>...</td>\n",
       "      <td>...</td>\n",
       "      <td>...</td>\n",
       "      <td>...</td>\n",
       "      <td>...</td>\n",
       "      <td>...</td>\n",
       "      <td>...</td>\n",
       "      <td>...</td>\n",
       "      <td>...</td>\n",
       "      <td>...</td>\n",
       "      <td>...</td>\n",
       "      <td>...</td>\n",
       "      <td>...</td>\n",
       "      <td>...</td>\n",
       "      <td>...</td>\n",
       "      <td>...</td>\n",
       "    </tr>\n",
       "    <tr>\n",
       "      <th>7375</th>\n",
       "      <td>58</td>\n",
       "      <td>0</td>\n",
       "      <td>2.0</td>\n",
       "      <td>1</td>\n",
       "      <td>2</td>\n",
       "      <td>178.333333</td>\n",
       "      <td>0</td>\n",
       "      <td>0</td>\n",
       "      <td>0</td>\n",
       "      <td>1</td>\n",
       "      <td>2</td>\n",
       "      <td>2</td>\n",
       "      <td>2</td>\n",
       "      <td>0.0</td>\n",
       "      <td>1</td>\n",
       "      <td>1</td>\n",
       "      <td>1</td>\n",
       "      <td>1</td>\n",
       "      <td>2</td>\n",
       "      <td>3</td>\n",
       "      <td>3</td>\n",
       "      <td>7.000000</td>\n",
       "      <td>5</td>\n",
       "      <td>2</td>\n",
       "      <td>2</td>\n",
       "      <td>2</td>\n",
       "      <td>2</td>\n",
       "      <td>2</td>\n",
       "      <td>1</td>\n",
       "      <td>4</td>\n",
       "      <td>-1.392863</td>\n",
       "      <td>1.293646</td>\n",
       "      <td>1</td>\n",
       "    </tr>\n",
       "    <tr>\n",
       "      <th>7376</th>\n",
       "      <td>55</td>\n",
       "      <td>1</td>\n",
       "      <td>1.0</td>\n",
       "      <td>1</td>\n",
       "      <td>2</td>\n",
       "      <td>50.000000</td>\n",
       "      <td>0</td>\n",
       "      <td>0</td>\n",
       "      <td>4</td>\n",
       "      <td>1</td>\n",
       "      <td>3</td>\n",
       "      <td>3</td>\n",
       "      <td>2</td>\n",
       "      <td>0.0</td>\n",
       "      <td>1</td>\n",
       "      <td>1</td>\n",
       "      <td>1</td>\n",
       "      <td>1</td>\n",
       "      <td>0</td>\n",
       "      <td>3</td>\n",
       "      <td>3</td>\n",
       "      <td>5.000000</td>\n",
       "      <td>5</td>\n",
       "      <td>2</td>\n",
       "      <td>2</td>\n",
       "      <td>2</td>\n",
       "      <td>2</td>\n",
       "      <td>2</td>\n",
       "      <td>1</td>\n",
       "      <td>4</td>\n",
       "      <td>-2.051838</td>\n",
       "      <td>2.714760</td>\n",
       "      <td>1</td>\n",
       "    </tr>\n",
       "    <tr>\n",
       "      <th>7377</th>\n",
       "      <td>77</td>\n",
       "      <td>0</td>\n",
       "      <td>2.0</td>\n",
       "      <td>1</td>\n",
       "      <td>2</td>\n",
       "      <td>57.333333</td>\n",
       "      <td>0</td>\n",
       "      <td>0</td>\n",
       "      <td>4</td>\n",
       "      <td>2</td>\n",
       "      <td>3</td>\n",
       "      <td>2</td>\n",
       "      <td>3</td>\n",
       "      <td>28.0</td>\n",
       "      <td>2</td>\n",
       "      <td>2</td>\n",
       "      <td>0</td>\n",
       "      <td>2</td>\n",
       "      <td>2</td>\n",
       "      <td>3</td>\n",
       "      <td>3</td>\n",
       "      <td>7.000000</td>\n",
       "      <td>0</td>\n",
       "      <td>2</td>\n",
       "      <td>2</td>\n",
       "      <td>2</td>\n",
       "      <td>2</td>\n",
       "      <td>2</td>\n",
       "      <td>2</td>\n",
       "      <td>2</td>\n",
       "      <td>-5.583307</td>\n",
       "      <td>-0.302481</td>\n",
       "      <td>1</td>\n",
       "    </tr>\n",
       "    <tr>\n",
       "      <th>7378</th>\n",
       "      <td>77</td>\n",
       "      <td>1</td>\n",
       "      <td>2.0</td>\n",
       "      <td>1</td>\n",
       "      <td>2</td>\n",
       "      <td>57.333333</td>\n",
       "      <td>0</td>\n",
       "      <td>0</td>\n",
       "      <td>4</td>\n",
       "      <td>2</td>\n",
       "      <td>2</td>\n",
       "      <td>3</td>\n",
       "      <td>2</td>\n",
       "      <td>0.0</td>\n",
       "      <td>1</td>\n",
       "      <td>1</td>\n",
       "      <td>1</td>\n",
       "      <td>1</td>\n",
       "      <td>2</td>\n",
       "      <td>3</td>\n",
       "      <td>3</td>\n",
       "      <td>6.000000</td>\n",
       "      <td>5</td>\n",
       "      <td>2</td>\n",
       "      <td>2</td>\n",
       "      <td>2</td>\n",
       "      <td>2</td>\n",
       "      <td>2</td>\n",
       "      <td>1</td>\n",
       "      <td>4</td>\n",
       "      <td>-2.270716</td>\n",
       "      <td>1.426346</td>\n",
       "      <td>1</td>\n",
       "    </tr>\n",
       "    <tr>\n",
       "      <th>7379</th>\n",
       "      <td>60</td>\n",
       "      <td>1</td>\n",
       "      <td>1.0</td>\n",
       "      <td>1</td>\n",
       "      <td>2</td>\n",
       "      <td>110.000000</td>\n",
       "      <td>0</td>\n",
       "      <td>0</td>\n",
       "      <td>5</td>\n",
       "      <td>2</td>\n",
       "      <td>3</td>\n",
       "      <td>2</td>\n",
       "      <td>2</td>\n",
       "      <td>0.0</td>\n",
       "      <td>1</td>\n",
       "      <td>1</td>\n",
       "      <td>1</td>\n",
       "      <td>1</td>\n",
       "      <td>2</td>\n",
       "      <td>3</td>\n",
       "      <td>3</td>\n",
       "      <td>6.000000</td>\n",
       "      <td>5</td>\n",
       "      <td>2</td>\n",
       "      <td>2</td>\n",
       "      <td>2</td>\n",
       "      <td>2</td>\n",
       "      <td>2</td>\n",
       "      <td>1</td>\n",
       "      <td>4</td>\n",
       "      <td>-2.213867</td>\n",
       "      <td>1.226326</td>\n",
       "      <td>1</td>\n",
       "    </tr>\n",
       "  </tbody>\n",
       "</table>\n",
       "<p>7380 rows × 33 columns</p>\n",
       "</div>"
      ],
      "text/plain": [
       "      age  성별  가구원수  기초생활수급여부  주택형태    월평균가구총소득  결혼여부  결혼상태  주관적건강상태  \\\n",
       "0      43   1   4.0         1     1  275.000000     0     0        0   \n",
       "1      10   0   4.0         1     1  275.000000     1     1        3   \n",
       "2      61   1   2.0         1     2  125.000000     0     5        0   \n",
       "3      35   0   2.0         1     2  125.000000     1     1        4   \n",
       "4      20   0   1.0         1     2   45.000000     1     1        5   \n",
       "...   ...  ..   ...       ...   ...         ...   ...   ...      ...   \n",
       "7375   58   0   2.0         1     2  178.333333     0     0        0   \n",
       "7376   55   1   1.0         1     2   50.000000     0     0        4   \n",
       "7377   77   0   2.0         1     2   57.333333     0     0        4   \n",
       "7378   77   1   2.0         1     2   57.333333     0     0        4   \n",
       "7379   60   1   1.0         1     2  110.000000     0     0        5   \n",
       "\n",
       "      2주내몸이상여부(주관적)  고혈압진단여부  이상지지혈증진단여부  우울증진단여부  우울증진단시기  우울증현재유병여부  우울증치료  \\\n",
       "0                 2        2           2        2      0.0          1      1   \n",
       "1                 0        0           0        0      0.0          0      0   \n",
       "2                 1        2           2        2      0.0          1      1   \n",
       "3                 1        2           2        2      0.0          1      1   \n",
       "4                 2        2           2        2      0.0          1      1   \n",
       "...             ...      ...         ...      ...      ...        ...    ...   \n",
       "7375              1        2           2        2      0.0          1      1   \n",
       "7376              1        3           3        2      0.0          1      1   \n",
       "7377              2        3           2        3     28.0          2      2   \n",
       "7378              2        2           3        2      0.0          1      1   \n",
       "7379              2        3           2        2      0.0          1      1   \n",
       "\n",
       "      활동제한여부  활동제한사유  불안우울설문  경제활동상태  미취업사유  하루평균수면시간  평소스트레스인지정도  2주이상우울감여부  \\\n",
       "0          1       1       2       3      3  7.000000           5          2   \n",
       "1          2       0       1       0      2  6.762435           3          0   \n",
       "2          1       1       2       2      4  8.000000           5          3   \n",
       "3          1       1       2       3      3  8.000000           2          2   \n",
       "4          1       1       2       2      8  6.000000           2          2   \n",
       "...      ...     ...     ...     ...    ...       ...         ...        ...   \n",
       "7375       1       1       2       3      3  7.000000           5          2   \n",
       "7376       1       1       0       3      3  5.000000           5          2   \n",
       "7377       0       2       2       3      3  7.000000           0          2   \n",
       "7378       1       1       2       3      3  6.000000           5          2   \n",
       "7379       1       1       2       3      3  6.000000           5          2   \n",
       "\n",
       "      1년간정신문제상담  1년간자살생각여부  1년간자살계획여부  1년간자살시도여부  당뇨병진단여부  ClusterKmeans  \\\n",
       "0             2          2          2          2        1              4   \n",
       "1             0          0          0          0        0              1   \n",
       "2             2          2          2          2        1              4   \n",
       "3             2          2          2          2        1              4   \n",
       "4             2          2          2          2        1              4   \n",
       "...         ...        ...        ...        ...      ...            ...   \n",
       "7375          2          2          2          2        1              4   \n",
       "7376          2          2          2          2        1              4   \n",
       "7377          2          2          2          2        2              2   \n",
       "7378          2          2          2          2        1              4   \n",
       "7379          2          2          2          2        1              4   \n",
       "\n",
       "      pca_component_1  pca_component_2  ClusterKmeans_pca  \n",
       "0           -1.680560         0.354172                  1  \n",
       "1            9.058396         0.224191                  4  \n",
       "2           -1.617819         1.615640                  1  \n",
       "3           -1.082119        -0.238757                  1  \n",
       "4           -1.398024        -0.940581                  1  \n",
       "...               ...              ...                ...  \n",
       "7375        -1.392863         1.293646                  1  \n",
       "7376        -2.051838         2.714760                  1  \n",
       "7377        -5.583307        -0.302481                  1  \n",
       "7378        -2.270716         1.426346                  1  \n",
       "7379        -2.213867         1.226326                  1  \n",
       "\n",
       "[7380 rows x 33 columns]"
      ]
     },
     "execution_count": 68,
     "metadata": {},
     "output_type": "execute_result"
    }
   ],
   "source": [
    "df1"
   ]
  },
  {
   "cell_type": "code",
   "execution_count": 69,
   "metadata": {},
   "outputs": [
    {
     "data": {
      "text/html": [
       "<div>\n",
       "<style scoped>\n",
       "    .dataframe tbody tr th:only-of-type {\n",
       "        vertical-align: middle;\n",
       "    }\n",
       "\n",
       "    .dataframe tbody tr th {\n",
       "        vertical-align: top;\n",
       "    }\n",
       "\n",
       "    .dataframe thead th {\n",
       "        text-align: right;\n",
       "    }\n",
       "</style>\n",
       "<table border=\"1\" class=\"dataframe\">\n",
       "  <thead>\n",
       "    <tr style=\"text-align: right;\">\n",
       "      <th></th>\n",
       "      <th>sum_sq</th>\n",
       "      <th>df</th>\n",
       "      <th>F</th>\n",
       "      <th>PR(&gt;F)</th>\n",
       "    </tr>\n",
       "  </thead>\n",
       "  <tbody>\n",
       "    <tr>\n",
       "      <th>C(ClusterKmeans_pca)</th>\n",
       "      <td>9.586295e+06</td>\n",
       "      <td>3.0</td>\n",
       "      <td>49.55327</td>\n",
       "      <td>1.063093e-31</td>\n",
       "    </tr>\n",
       "    <tr>\n",
       "      <th>Residual</th>\n",
       "      <td>4.756397e+08</td>\n",
       "      <td>7376.0</td>\n",
       "      <td>NaN</td>\n",
       "      <td>NaN</td>\n",
       "    </tr>\n",
       "  </tbody>\n",
       "</table>\n",
       "</div>"
      ],
      "text/plain": [
       "                            sum_sq      df         F        PR(>F)\n",
       "C(ClusterKmeans_pca)  9.586295e+06     3.0  49.55327  1.063093e-31\n",
       "Residual              4.756397e+08  7376.0       NaN           NaN"
      ]
     },
     "execution_count": 69,
     "metadata": {},
     "output_type": "execute_result"
    }
   ],
   "source": [
    "model2 = ols('월평균가구총소득 ~ C(ClusterKmeans_pca)', data = df1).fit()\n",
    "anova_table2 = sm.stats.anova_lm(model2, typ=2)\n",
    "anova_table2"
   ]
  },
  {
   "cell_type": "markdown",
   "metadata": {},
   "source": [
    "군집간 월평균가구총소득 평균의 차이가 있다."
   ]
  },
  {
   "cell_type": "markdown",
   "metadata": {},
   "source": [
    "#### 군집분석"
   ]
  },
  {
   "cell_type": "code",
   "execution_count": 70,
   "metadata": {},
   "outputs": [
    {
     "data": {
      "text/html": [
       "<div>\n",
       "<style scoped>\n",
       "    .dataframe tbody tr th:only-of-type {\n",
       "        vertical-align: middle;\n",
       "    }\n",
       "\n",
       "    .dataframe tbody tr th {\n",
       "        vertical-align: top;\n",
       "    }\n",
       "\n",
       "    .dataframe thead th {\n",
       "        text-align: right;\n",
       "    }\n",
       "</style>\n",
       "<table border=\"1\" class=\"dataframe\">\n",
       "  <thead>\n",
       "    <tr style=\"text-align: right;\">\n",
       "      <th></th>\n",
       "      <th>age</th>\n",
       "      <th>성별</th>\n",
       "      <th>우울증진단여부</th>\n",
       "      <th>우울증현재유병여부</th>\n",
       "      <th>월평균가구총소득</th>\n",
       "    </tr>\n",
       "    <tr>\n",
       "      <th>ClusterKmeans</th>\n",
       "      <th></th>\n",
       "      <th></th>\n",
       "      <th></th>\n",
       "      <th></th>\n",
       "      <th></th>\n",
       "    </tr>\n",
       "  </thead>\n",
       "  <tbody>\n",
       "    <tr>\n",
       "      <th>1</th>\n",
       "      <td>46.566449</td>\n",
       "      <td>0.484749</td>\n",
       "      <td>0.002179</td>\n",
       "      <td>0.001089</td>\n",
       "      <td>364.167351</td>\n",
       "    </tr>\n",
       "    <tr>\n",
       "      <th>2</th>\n",
       "      <td>56.820000</td>\n",
       "      <td>0.800000</td>\n",
       "      <td>3.000000</td>\n",
       "      <td>2.620000</td>\n",
       "      <td>275.484132</td>\n",
       "    </tr>\n",
       "    <tr>\n",
       "      <th>3</th>\n",
       "      <td>12.840663</td>\n",
       "      <td>0.475847</td>\n",
       "      <td>1.046143</td>\n",
       "      <td>1.000000</td>\n",
       "      <td>431.099184</td>\n",
       "    </tr>\n",
       "    <tr>\n",
       "      <th>4</th>\n",
       "      <td>51.013472</td>\n",
       "      <td>0.558342</td>\n",
       "      <td>1.994819</td>\n",
       "      <td>0.998756</td>\n",
       "      <td>369.241650</td>\n",
       "    </tr>\n",
       "  </tbody>\n",
       "</table>\n",
       "</div>"
      ],
      "text/plain": [
       "                     age        성별   우울증진단여부  우울증현재유병여부    월평균가구총소득\n",
       "ClusterKmeans                                                      \n",
       "1              46.566449  0.484749  0.002179   0.001089  364.167351\n",
       "2              56.820000  0.800000  3.000000   2.620000  275.484132\n",
       "3              12.840663  0.475847  1.046143   1.000000  431.099184\n",
       "4              51.013472  0.558342  1.994819   0.998756  369.241650"
      ]
     },
     "execution_count": 70,
     "metadata": {},
     "output_type": "execute_result"
    }
   ],
   "source": [
    "df1_k = pd.pivot_table(df1, index = 'ClusterKmeans', values = ['age', '성별', '월평균가구총소득', \n",
    "                                                               '우울증진단여부', '우울증현재유병여부'], aggfunc=np.mean)\n",
    "df1_k"
   ]
  },
  {
   "cell_type": "markdown",
   "metadata": {},
   "source": [
    "#### 차원축소 군집분석"
   ]
  },
  {
   "cell_type": "code",
   "execution_count": 71,
   "metadata": {},
   "outputs": [
    {
     "data": {
      "text/html": [
       "<div>\n",
       "<style scoped>\n",
       "    .dataframe tbody tr th:only-of-type {\n",
       "        vertical-align: middle;\n",
       "    }\n",
       "\n",
       "    .dataframe tbody tr th {\n",
       "        vertical-align: top;\n",
       "    }\n",
       "\n",
       "    .dataframe thead th {\n",
       "        text-align: right;\n",
       "    }\n",
       "</style>\n",
       "<table border=\"1\" class=\"dataframe\">\n",
       "  <thead>\n",
       "    <tr style=\"text-align: right;\">\n",
       "      <th></th>\n",
       "      <th>age</th>\n",
       "      <th>성별</th>\n",
       "      <th>우울증진단여부</th>\n",
       "      <th>우울증현재유병여부</th>\n",
       "      <th>월평균가구총소득</th>\n",
       "    </tr>\n",
       "    <tr>\n",
       "      <th>ClusterKmeans_pca</th>\n",
       "      <th></th>\n",
       "      <th></th>\n",
       "      <th></th>\n",
       "      <th></th>\n",
       "      <th></th>\n",
       "    </tr>\n",
       "  </thead>\n",
       "  <tbody>\n",
       "    <tr>\n",
       "      <th>1</th>\n",
       "      <td>51.641041</td>\n",
       "      <td>0.572773</td>\n",
       "      <td>2.047648</td>\n",
       "      <td>1.081682</td>\n",
       "      <td>360.464513</td>\n",
       "    </tr>\n",
       "    <tr>\n",
       "      <th>2</th>\n",
       "      <td>54.514634</td>\n",
       "      <td>0.512195</td>\n",
       "      <td>0.141463</td>\n",
       "      <td>0.070732</td>\n",
       "      <td>330.894875</td>\n",
       "    </tr>\n",
       "    <tr>\n",
       "      <th>3</th>\n",
       "      <td>12.333566</td>\n",
       "      <td>0.466434</td>\n",
       "      <td>1.078322</td>\n",
       "      <td>1.000000</td>\n",
       "      <td>448.685262</td>\n",
       "    </tr>\n",
       "    <tr>\n",
       "      <th>4</th>\n",
       "      <td>42.143119</td>\n",
       "      <td>0.478899</td>\n",
       "      <td>0.000000</td>\n",
       "      <td>0.000000</td>\n",
       "      <td>375.954356</td>\n",
       "    </tr>\n",
       "  </tbody>\n",
       "</table>\n",
       "</div>"
      ],
      "text/plain": [
       "                         age        성별   우울증진단여부  우울증현재유병여부    월평균가구총소득\n",
       "ClusterKmeans_pca                                                      \n",
       "1                  51.641041  0.572773  2.047648   1.081682  360.464513\n",
       "2                  54.514634  0.512195  0.141463   0.070732  330.894875\n",
       "3                  12.333566  0.466434  1.078322   1.000000  448.685262\n",
       "4                  42.143119  0.478899  0.000000   0.000000  375.954356"
      ]
     },
     "execution_count": 71,
     "metadata": {},
     "output_type": "execute_result"
    }
   ],
   "source": [
    "df1_kpca = pd.pivot_table(df1, index = 'ClusterKmeans_pca', values = ['age', '성별', '월평균가구총소득', \n",
    "                                                               '우울증진단여부', '우울증현재유병여부'], aggfunc=np.mean)\n",
    "df1_kpca"
   ]
  },
  {
   "cell_type": "markdown",
   "metadata": {},
   "source": []
  },
  {
   "cell_type": "markdown",
   "metadata": {},
   "source": [
    "#### 성별\n",
    "- 0: 남성\n",
    "- 1: 여성\n",
    "\n",
    "\n",
    "#### 기초생활수급여부\n",
    "- 1: 수급경험없음\n",
    "- 2: 수급경험있음\n",
    "\n",
    "\n",
    "#### 주택형태\n",
    "- 1: 다세대주택\n",
    "- 2: 단독주택\n",
    "- 3: 아파트\n",
    "\n",
    "\n",
    "#### 결혼여부\n",
    "- 0: 기혼\n",
    "- 1: 미혼\n",
    "\n",
    "\n",
    "#### 결혼상태\n",
    "- 0: 동거\n",
    "- 1: 모름\n",
    "- 2: 별거\n",
    "- 3: 사별\n",
    "- 4: 응답거부\n",
    "- 5: 이혼\n",
    "\n",
    "#### 주관적건강상태\n",
    "- 0: 나쁨\n",
    "- 1: 매우나쁨\n",
    "- 2: 매우좋음\n",
    "- 3: 무응답\n",
    "- 4: 보통\n",
    "- 5: 좋음\n",
    "\n",
    "\n",
    "#### 2주내몸이상여부(주관적)\n",
    "- 0: 무응답\n",
    "- 1: 아니오\n",
    "- 2: 예\n",
    "\n",
    "\n",
    "#### 고혈압진단여부\n",
    "- 0: 무응답\n",
    "- 1: 비해당(청소년/소아)\n",
    "- 2: 없음\n",
    "- 3: 있음\n",
    "\n",
    "\n",
    "#### 이상지지혈증진단여부\n",
    "- 0: 무응답\n",
    "- 1: 비해당(청소년/소아)\n",
    "- 2: 없음\n",
    "- 3: 있음\n",
    "\n",
    "\n",
    "#### 우울증진단여부\n",
    "- 0: 무응답\n",
    "- 1: 비해당(청소년/소아)\n",
    "- 2: 없음\n",
    "- 3: 있음\n",
    "\n",
    "\n",
    "#### 우울증치료\n",
    "- 0: 무응답\n",
    "- 1: 비해당(청소년/소아)\n",
    "- 2: 없음\n",
    "- 3: 있음\n",
    "\n",
    "\n",
    "#### 활동제한사유\n",
    "- 0: 무응답\n",
    "- 1: 비해당\n",
    "- 2: 아니오\n",
    "- 3: 예\n",
    "\n",
    "\n",
    "#### 불안우울설문\n",
    "- 0: 다소불안하거나우울함\n",
    "- 1: 무응답\n",
    "- 2: 불안하거나우울하지않음\n",
    "- 3: 비해당(청소년/소아) \n",
    "- 4: 심하게불안하거나우울함\n",
    "\n",
    "\n",
    "#### 경제활동상태\n",
    "- 0: 무응답\n",
    "- 1: 비해당(청소년)\n",
    "- 2: 실업자(비경제인구)\n",
    "- 3: 취업자\n",
    "\n",
    "\n",
    "#### 미취업사유\n",
    "- 0: 건강상이유\n",
    "- 1: 기타\n",
    "- 2: 무응답\n",
    "- 3: 비해당(청소년) \n",
    "- 4: 실업/구직      \n",
    "- 5: 육아/간병      \n",
    "- 6: 정년퇴직       \n",
    "- 7: 필요를느끼지못함\n",
    "- 8: 학원/학교재학\n",
    "\n",
    "\n",
    "#### 평소스트레스인지정도\n",
    "- 0: 거의느끼지않음\n",
    "- 1: 대단히많이느낌\n",
    "- 2: 많이느낌\n",
    "- 3: 무응답 \n",
    "- 4: 비해당\n",
    "- 5: 조금느낌\n",
    "\n",
    "\n",
    "#### 2주이상우울감여부\n",
    "- 0: 무응답\n",
    "- 1: 비해당(청소년/소아)\n",
    "- 2: 아니오\n",
    "- 3: 예\n",
    "\n",
    "\n",
    "#### 1년간정신문제상담\n",
    "- 0: 무응답\n",
    "- 1: 비해당(청소년/소아)\n",
    "- 2: 아니오\n",
    "- 3: 예\n",
    "\n",
    "\n",
    "#### 1년간자살생각여부\n",
    "- 0: 무응답\n",
    "- 1: 비해당(청소년/소아)\n",
    "- 2: 아니오\n",
    "- 3: 예\n",
    "\n",
    "\n",
    "#### 1년간자살계획여부\n",
    "- 0: 무응답\n",
    "- 1: 비해당(청소년/소아)\n",
    "- 2: 아니오\n",
    "- 3: 예\n",
    "\n",
    "\n",
    "#### 1년간자살시도여부\n",
    "- 0: 무응답\n",
    "- 1: 비해당(청소년/소아)\n",
    "- 2: 아니오\n",
    "- 3: 예\n",
    "\n",
    "\n",
    "#### 당뇨병진단여부\n",
    "- 0: 무응답\n",
    "- 1: 없음\n",
    "- 2: 있음"
   ]
  },
  {
   "cell_type": "markdown",
   "metadata": {},
   "source": [
    "##### 우울증 진단여부"
   ]
  },
  {
   "cell_type": "markdown",
   "metadata": {},
   "source": [
    "- 0: 무응답\n",
    "- 1: 비해당(청소년/소아)\n",
    "- 2: 없음\n",
    "- 3: 있음"
   ]
  },
  {
   "cell_type": "code",
   "execution_count": 72,
   "metadata": {},
   "outputs": [
    {
     "data": {
      "image/png": "[encoded data removed]",
      "text/plain": [
       "<Figure size 720x432 with 1 Axes>"
      ]
     },
     "metadata": {
      "image/png": {
       "height": 394,
       "width": 595
      },
      "needs_background": "light"
     },
     "output_type": "display_data"
    }
   ],
   "source": [
    "ct = pd.crosstab(df1['ClusterKmeans'], df1['우울증진단여부'])\n",
    "cols = ct.columns.tolist()\n",
    "cols = [ 0, 1, 2, 3]\n",
    "ct = ct[cols]\n",
    "\n",
    "totals = []\n",
    "for i in range(len(ct)):\n",
    "    totals.append(sum(ct.iloc[i, :]))\n",
    "\n",
    "cl = ct.columns.to_list()\n",
    "\n",
    "color_list = ['MistyRose','Salmon','Crimson', 'darkred']\n",
    "\n",
    "for i in range(len(cl)):\n",
    "    ct[cl[i]] = ct[cl[i]] / totals\n",
    "    \n",
    "fig = ct.plot.bar(stacked=True, figsize=(10,6), color=color_list)\n",
    "plt.xticks(fontsize=12, rotation=360)\n",
    "plt.yticks(fontsize=12)\n",
    "plt.xlabel('ClusterKmeans', fontsize=12)\n",
    "plt.title('군집분석 우울증진단여부', fontsize=16)\n",
    "plt.legend(fontsize='x-large')\n",
    "plt.show()"
   ]
  },
  {
   "cell_type": "code",
   "execution_count": 73,
   "metadata": {},
   "outputs": [
    {
     "data": {
      "image/png": "[encoded data removed]",
      "text/plain": [
       "<Figure size 720x432 with 1 Axes>"
      ]
     },
     "metadata": {
      "image/png": {
       "height": 394,
       "width": 595
      },
      "needs_background": "light"
     },
     "output_type": "display_data"
    }
   ],
   "source": [
    "ct = pd.crosstab(df1['ClusterKmeans_pca'], df1['우울증진단여부'])\n",
    "cols = ct.columns.tolist()\n",
    "cols = [ 0, 1, 2, 3]\n",
    "ct = ct[cols]\n",
    "\n",
    "totals = []\n",
    "for i in range(len(ct)):\n",
    "    totals.append(sum(ct.iloc[i, :]))\n",
    "\n",
    "cl = ct.columns.to_list()\n",
    "\n",
    "color_list = ['MistyRose','Salmon','Crimson', 'darkred']\n",
    "\n",
    "for i in range(len(cl)):\n",
    "    ct[cl[i]] = ct[cl[i]] / totals\n",
    "    \n",
    "fig = ct.plot.bar(stacked=True, figsize=(10,6), color=color_list)\n",
    "plt.xticks(fontsize=12, rotation=360)\n",
    "plt.yticks(fontsize=12)\n",
    "plt.xlabel('ClusterKmeans_pca', fontsize=12)\n",
    "plt.title('차원축소 우울증진단여부', fontsize=16)\n",
    "plt.legend(fontsize='x-large')\n",
    "plt.show()"
   ]
  },
  {
   "cell_type": "markdown",
   "metadata": {},
   "source": [
    "군집분석\n",
    "- 1번 집단 : 무응답\n",
    "- 2번 집단 : 있음\n",
    "- 3번 집단 : 없음\n",
    "- 4번 집단 : 비해당(청소년/소아) + 없음(일부)\n",
    "    \n",
    "차원축소 군집분석\n",
    "- 1번 집단 : 없음 + 있음(일부)\n",
    "- 2번 집단 : 무응답\n",
    "- 3번 집단 : 비해당(청소년/소아) + 없음(일부)\n",
    "- 4번 집단 : 무응답 + 없음(일부)"
   ]
  },
  {
   "cell_type": "markdown",
   "metadata": {},
   "source": [
    "#### 우울증진단여부를 기준으로 봤을 때, 차원축소를 하지 않은 군집분석 결과가 집단을 더 명확하게 분류한 것으로 보인다."
   ]
  },
  {
   "cell_type": "code",
   "execution_count": 74,
   "metadata": {},
   "outputs": [
    {
     "data": {
      "image/png": "[encoded data removed]",
      "text/plain": [
       "<Figure size 720x432 with 1 Axes>"
      ]
     },
     "metadata": {
      "image/png": {
       "height": 394,
       "width": 595
      },
      "needs_background": "light"
     },
     "output_type": "display_data"
    }
   ],
   "source": [
    "ct = pd.crosstab(df1['ClusterKmeans'], df1['1년간자살계획여부'])\n",
    "cols = ct.columns.tolist()\n",
    "cols = [ 0, 1, 2, 3]\n",
    "ct = ct[cols]\n",
    "\n",
    "totals = []\n",
    "for i in range(len(ct)):\n",
    "    totals.append(sum(ct.iloc[i, :]))\n",
    "\n",
    "cl = ct.columns.to_list()\n",
    "\n",
    "color_list = ['MistyRose','Salmon','Crimson', 'darkred']\n",
    "\n",
    "for i in range(len(cl)):\n",
    "    ct[cl[i]] = ct[cl[i]] / totals\n",
    "    \n",
    "fig = ct.plot.bar(stacked=True, figsize=(10,6), color=color_list)\n",
    "plt.xticks(fontsize=12, rotation=360)\n",
    "plt.yticks(fontsize=12)\n",
    "plt.xlabel('ClusterKmeans', fontsize=12)\n",
    "plt.title('군집분석 1년간자살계획여부', fontsize=16)\n",
    "plt.legend(fontsize='x-large')\n",
    "plt.show()"
   ]
  },
  {
   "cell_type": "markdown",
   "metadata": {},
   "source": [
    "#### 1년간자살계획여부\n",
    "- 0: 무응답\n",
    "- 1: 비해당(청소년/소아)\n",
    "- 2: 아니오\n",
    "- 3: 예"
   ]
  },
  {
   "cell_type": "markdown",
   "metadata": {},
   "source": [
    "#### 우울증진단을 받은 2번 집단에서 '1년간자살계획여부'가 '예'인 비율이 가장 높게 나타난다."
   ]
  },
  {
   "cell_type": "markdown",
   "metadata": {},
   "source": [
    "#### 우울증치료\n",
    "- 0: 무응답\n",
    "- 1: 비해당(청소년/소아)\n",
    "- 2: 없음\n",
    "- 3: 있음"
   ]
  },
  {
   "cell_type": "code",
   "execution_count": 75,
   "metadata": {},
   "outputs": [
    {
     "data": {
      "image/png": "[encoded data removed]",
      "text/plain": [
       "<Figure size 720x432 with 1 Axes>"
      ]
     },
     "metadata": {
      "image/png": {
       "height": 394,
       "width": 595
      },
      "needs_background": "light"
     },
     "output_type": "display_data"
    }
   ],
   "source": [
    "ct = pd.crosstab(df1['ClusterKmeans'], df1['우울증치료'])\n",
    "cols = ct.columns.tolist()\n",
    "cols = [ 0, 1, 2, 3]\n",
    "ct = ct[cols]\n",
    "\n",
    "totals = []\n",
    "for i in range(len(ct)):\n",
    "    totals.append(sum(ct.iloc[i, :]))\n",
    "\n",
    "cl = ct.columns.to_list()\n",
    "\n",
    "color_list = ['MistyRose','Salmon','Crimson', 'darkred']\n",
    "\n",
    "for i in range(len(cl)):\n",
    "    ct[cl[i]] = ct[cl[i]] / totals\n",
    "    \n",
    "fig = ct.plot.bar(stacked=True, figsize=(10,6), color=color_list)\n",
    "plt.xticks(fontsize=12, rotation=360)\n",
    "plt.yticks(fontsize=12)\n",
    "plt.xlabel('ClusterKmeans', fontsize=12)\n",
    "plt.title('군집분석 우울증치료', fontsize=16)\n",
    "plt.legend(fontsize='x-large')\n",
    "plt.show()"
   ]
  },
  {
   "cell_type": "markdown",
   "metadata": {},
   "source": [
    "#### 우을증진단을 받은 2번 집단의 경우, 우울증치료 경험이 있다고 응답한 비율보다 없다고 응답한 비율이 더 높다. "
   ]
  },
  {
   "cell_type": "markdown",
   "metadata": {},
   "source": [
    "#### 1년간정신문제상담\n",
    "- 0: 무응답\n",
    "- 1: 비해당(청소년/소아)\n",
    "- 2: 아니오\n",
    "- 3: 예"
   ]
  },
  {
   "cell_type": "code",
   "execution_count": 76,
   "metadata": {},
   "outputs": [
    {
     "data": {
      "image/png": "[encoded data removed]",
      "text/plain": [
       "<Figure size 720x432 with 1 Axes>"
      ]
     },
     "metadata": {
      "image/png": {
       "height": 394,
       "width": 595
      },
      "needs_background": "light"
     },
     "output_type": "display_data"
    }
   ],
   "source": [
    "ct = pd.crosstab(df1['ClusterKmeans'], df1['1년간정신문제상담'])\n",
    "cols = ct.columns.tolist()\n",
    "cols = [ 0, 1, 2, 3]\n",
    "ct = ct[cols]\n",
    "\n",
    "totals = []\n",
    "for i in range(len(ct)):\n",
    "    totals.append(sum(ct.iloc[i, :]))\n",
    "\n",
    "cl = ct.columns.to_list()\n",
    "\n",
    "color_list = ['MistyRose','Salmon','Crimson', 'darkred']\n",
    "\n",
    "for i in range(len(cl)):\n",
    "    ct[cl[i]] = ct[cl[i]] / totals\n",
    "    \n",
    "fig = ct.plot.bar(stacked=True, figsize=(10,6), color=color_list)\n",
    "plt.xticks(fontsize=12, rotation=360)\n",
    "plt.yticks(fontsize=12)\n",
    "plt.xlabel('ClusterKmeans', fontsize=12)\n",
    "plt.title('군집분석 1년간정신문제상담', fontsize=16)\n",
    "plt.legend(fontsize='x-large')\n",
    "plt.show()"
   ]
  },
  {
   "cell_type": "markdown",
   "metadata": {},
   "source": [
    "#### 2번 집단에서 1년간 정신문제상담을 받았다고 응답한 비율보다 받지 않았다고 응답한 비율이 더 높다. "
   ]
  },
  {
   "cell_type": "markdown",
   "metadata": {},
   "source": [
    "#### 성별"
   ]
  },
  {
   "cell_type": "markdown",
   "metadata": {},
   "source": [
    "0: 남성 / 1: 여성"
   ]
  },
  {
   "cell_type": "code",
   "execution_count": 77,
   "metadata": {},
   "outputs": [
    {
     "data": {
      "image/png": "[encoded data removed]",
      "text/plain": [
       "<Figure size 720x432 with 1 Axes>"
      ]
     },
     "metadata": {
      "image/png": {
       "height": 394,
       "width": 595
      },
      "needs_background": "light"
     },
     "output_type": "display_data"
    }
   ],
   "source": [
    "ct = pd.crosstab(df1['ClusterKmeans'], df1['성별'])\n",
    "cols = ct.columns.tolist()\n",
    "cols = [ 0, 1]\n",
    "ct = ct[cols]\n",
    "\n",
    "totals = []\n",
    "for i in range(len(ct)):\n",
    "    totals.append(sum(ct.iloc[i, :]))\n",
    "\n",
    "cl = ct.columns.to_list()\n",
    "\n",
    "color_list = ['MistyRose','Crimson']\n",
    "\n",
    "for i in range(len(cl)):\n",
    "    ct[cl[i]] = ct[cl[i]] / totals\n",
    "    \n",
    "fig = ct.plot.bar(stacked=True, figsize=(10,6), color=color_list)\n",
    "plt.xticks(fontsize=12, rotation=360)\n",
    "plt.yticks(fontsize=12)\n",
    "plt.xlabel('ClusterKmeans', fontsize=12)\n",
    "plt.title('성별', fontsize=16)\n",
    "plt.legend(fontsize='x-large')\n",
    "plt.show()"
   ]
  },
  {
   "cell_type": "code",
   "execution_count": 78,
   "metadata": {},
   "outputs": [
    {
     "data": {
      "image/png": "[encoded data removed]",
      "text/plain": [
       "<Figure size 720x432 with 1 Axes>"
      ]
     },
     "metadata": {
      "image/png": {
       "height": 394,
       "width": 595
      },
      "needs_background": "light"
     },
     "output_type": "display_data"
    }
   ],
   "source": [
    "ct = pd.crosstab(df1['ClusterKmeans_pca'], df1['성별'])\n",
    "cols = ct.columns.tolist()\n",
    "cols = [ 0, 1]\n",
    "ct = ct[cols]\n",
    "\n",
    "totals = []\n",
    "for i in range(len(ct)):\n",
    "    totals.append(sum(ct.iloc[i, :]))\n",
    "\n",
    "cl = ct.columns.to_list()\n",
    "\n",
    "color_list = ['MistyRose','Crimson']\n",
    "\n",
    "for i in range(len(cl)):\n",
    "    ct[cl[i]] = ct[cl[i]] / totals\n",
    "    \n",
    "fig = ct.plot.bar(stacked=True, figsize=(10,6), color=color_list)\n",
    "plt.xticks(fontsize=12, rotation=360)\n",
    "plt.yticks(fontsize=12)\n",
    "plt.xlabel('ClusterKmeans_pca', fontsize=12)\n",
    "plt.title('차원축소 성별', fontsize=16)\n",
    "plt.legend(fontsize='x-large')\n",
    "plt.show()"
   ]
  },
  {
   "cell_type": "markdown",
   "metadata": {},
   "source": [
    "군집분석 - 군집별로 남녀 비율 대체로 비슷하나, 2번 군집은 여성의 비율이 훨씬 높다.\n",
    "- 1 : 무응답\n",
    "- 2 : 있음\n",
    "- 3 : 없음\n",
    "- 4 : 비해당(청소년/소아) + 없음(일부)\n",
    "    \n",
    "차원축소 군집분석 - 군집별로 남녀 비율 대체로 비슷함\n",
    "- 1 : 없음 + 있음(일부)\n",
    "- 2 : 무응답\n",
    "- 3 : 비해당(청소년/소아) + 없음(일부)\n",
    "- 4 : 무응답 + 없음(일부)"
   ]
  },
  {
   "cell_type": "markdown",
   "metadata": {},
   "source": [
    "#### '우울증진단여부'가 '있음'으로 분류된 2번 집단의 여성 비율이 훨씬 높은 것으로 보아, \n",
    "#### 남성에 비하여 여성이 우울증 진단을 받는 경우가 더 많다는 것을 알 수 있다."
   ]
  },
  {
   "cell_type": "code",
   "execution_count": 79,
   "metadata": {},
   "outputs": [
    {
     "data": {
      "image/png": "[encoded data removed]",
      "text/plain": [
       "<Figure size 720x432 with 1 Axes>"
      ]
     },
     "metadata": {
      "image/png": {
       "height": 394,
       "width": 595
      },
      "needs_background": "light"
     },
     "output_type": "display_data"
    }
   ],
   "source": [
    "ct = pd.crosstab(df1['성별'], df1['우울증진단여부'])\n",
    "cols = ct.columns.tolist()\n",
    "cols = [ 0, 1, 2, 3]\n",
    "ct = ct[cols]\n",
    "\n",
    "totals = []\n",
    "for i in range(len(ct)):\n",
    "    totals.append(sum(ct.iloc[i, :]))\n",
    "\n",
    "cl = ct.columns.to_list()\n",
    "\n",
    "color_list = ['MistyRose','Salmon','Crimson', 'darkred']\n",
    "\n",
    "for i in range(len(cl)):\n",
    "    ct[cl[i]] = ct[cl[i]] / totals\n",
    "    \n",
    "fig = ct.plot.bar(stacked=True, figsize=(10,6), color=color_list)\n",
    "plt.xticks(fontsize=12, rotation=360)\n",
    "plt.yticks(fontsize=12)\n",
    "plt.xlabel('성별', fontsize=12)\n",
    "plt.title('성별 우울증진단여부', fontsize=16)\n",
    "plt.legend(fontsize='x-large')\n",
    "plt.show()"
   ]
  },
  {
   "cell_type": "markdown",
   "metadata": {},
   "source": [
    "#### 경제력 (기초생활수급여부, 월평균가구총소득, 경제활동상태, 미취업사유)"
   ]
  },
  {
   "cell_type": "markdown",
   "metadata": {},
   "source": [
    "##### 기초생활수급여부\n",
    "- 1: 수급경험없음\n",
    "- 2: 수급경험있음"
   ]
  },
  {
   "cell_type": "code",
   "execution_count": 80,
   "metadata": {},
   "outputs": [
    {
     "data": {
      "image/png": "[encoded data removed]",
      "text/plain": [
       "<Figure size 720x432 with 1 Axes>"
      ]
     },
     "metadata": {
      "image/png": {
       "height": 394,
       "width": 595
      },
      "needs_background": "light"
     },
     "output_type": "display_data"
    }
   ],
   "source": [
    "ct = pd.crosstab(df1['ClusterKmeans'], df1['기초생활수급여부'])\n",
    "cols = ct.columns.tolist()\n",
    "cols = [ 0, 1, 2]\n",
    "ct = ct[cols]\n",
    "\n",
    "totals = []\n",
    "for i in range(len(ct)):\n",
    "    totals.append(sum(ct.iloc[i, :]))\n",
    "\n",
    "cl = ct.columns.to_list()\n",
    "\n",
    "color_list = ['MistyRose','Salmon','Crimson']\n",
    "\n",
    "for i in range(len(cl)):\n",
    "    ct[cl[i]] = ct[cl[i]] / totals\n",
    "    \n",
    "fig = ct.plot.bar(stacked=True, figsize=(10,6), color=color_list)\n",
    "plt.xticks(fontsize=12, rotation=360)\n",
    "plt.yticks(fontsize=12)\n",
    "plt.xlabel('ClusterKmeans', fontsize=12)\n",
    "plt.title('군집분석 기초생활수급여부', fontsize=16)\n",
    "plt.legend(fontsize='x-large')\n",
    "plt.show()"
   ]
  },
  {
   "cell_type": "code",
   "execution_count": 81,
   "metadata": {},
   "outputs": [
    {
     "data": {
      "image/png": "[encoded data removed]",
      "text/plain": [
       "<Figure size 720x432 with 1 Axes>"
      ]
     },
     "metadata": {
      "image/png": {
       "height": 394,
       "width": 595
      },
      "needs_background": "light"
     },
     "output_type": "display_data"
    }
   ],
   "source": [
    "ct = pd.crosstab(df1['ClusterKmeans_pca'], df1['기초생활수급여부'])\n",
    "cols = ct.columns.tolist()\n",
    "cols = [ 0, 1, 2]\n",
    "ct = ct[cols]\n",
    "\n",
    "totals = []\n",
    "for i in range(len(ct)):\n",
    "    totals.append(sum(ct.iloc[i, :]))\n",
    "\n",
    "cl = ct.columns.to_list()\n",
    "\n",
    "color_list = ['MistyRose','Salmon','Crimson']\n",
    "\n",
    "for i in range(len(cl)):\n",
    "    ct[cl[i]] = ct[cl[i]] / totals\n",
    "    \n",
    "fig = ct.plot.bar(stacked=True, figsize=(10,6), color=color_list)\n",
    "plt.xticks(fontsize=12, rotation=360)\n",
    "plt.yticks(fontsize=12)\n",
    "plt.xlabel('ClusterKmeans_pca', fontsize=12)\n",
    "plt.title('차원축소 기초생활수급여부', fontsize=16)\n",
    "plt.legend(fontsize='x-large')\n",
    "plt.show()"
   ]
  },
  {
   "cell_type": "markdown",
   "metadata": {},
   "source": [
    "군집분석 - 군집별로 남녀 비율 대체로 비슷하나, 2번 군집은 여성의 비율이 훨씬 높다.\n",
    "- 1 : 무응답\n",
    "- 2 : 있음 / 여성 비율 높음 / 기초생활수급경험있음 비율 높음\n",
    "- 3 : 없음\n",
    "- 4 : 비해당(청소년/소아) + 없음(일부)\n",
    "    \n",
    "차원축소 군집분석 - 군집별로 남녀 비율 대체로 비슷함\n",
    "- 1 : 없음 + 있음(일부)\n",
    "- 2 : 무응답\n",
    "- 3 : 비해당(청소년/소아) + 없음(일부)\n",
    "- 4 : 무응답 + 없음(일부) / 기초생활수급경험있음 비율 높음"
   ]
  },
  {
   "cell_type": "markdown",
   "metadata": {},
   "source": [
    "##### 경제활동상태\n",
    "- 0: 무응답\n",
    "- 1: 비해당(청소년)\n",
    "- 2: 실업자(비경제인구)\n",
    "- 3: 취업자"
   ]
  },
  {
   "cell_type": "code",
   "execution_count": 82,
   "metadata": {},
   "outputs": [
    {
     "data": {
      "image/png": "[encoded data removed]",
      "text/plain": [
       "<Figure size 720x432 with 1 Axes>"
      ]
     },
     "metadata": {
      "image/png": {
       "height": 394,
       "width": 595
      },
      "needs_background": "light"
     },
     "output_type": "display_data"
    }
   ],
   "source": [
    "ct = pd.crosstab(df1['ClusterKmeans'], df1['경제활동상태'])\n",
    "cols = ct.columns.tolist()\n",
    "cols = [ 0, 1, 2, 3]\n",
    "ct = ct[cols]\n",
    "\n",
    "totals = []\n",
    "for i in range(len(ct)):\n",
    "    totals.append(sum(ct.iloc[i, :]))\n",
    "\n",
    "cl = ct.columns.to_list()\n",
    "\n",
    "color_list = ['MistyRose','Salmon','Crimson', 'darkred']\n",
    "\n",
    "for i in range(len(cl)):\n",
    "    ct[cl[i]] = ct[cl[i]] / totals\n",
    "    \n",
    "fig = ct.plot.bar(stacked=True, figsize=(10,6), color=color_list)\n",
    "plt.xticks(fontsize=12, rotation=360)\n",
    "plt.yticks(fontsize=12)\n",
    "plt.xlabel('ClusterKmeans', fontsize=12)\n",
    "plt.title('군집분석 경제활동상태', fontsize=16)\n",
    "plt.legend(fontsize='x-large')\n",
    "plt.show()"
   ]
  },
  {
   "cell_type": "code",
   "execution_count": 83,
   "metadata": {},
   "outputs": [
    {
     "data": {
      "image/png": "[encoded data removed]",
      "text/plain": [
       "<Figure size 720x432 with 1 Axes>"
      ]
     },
     "metadata": {
      "image/png": {
       "height": 394,
       "width": 595
      },
      "needs_background": "light"
     },
     "output_type": "display_data"
    }
   ],
   "source": [
    "ct = pd.crosstab(df1['ClusterKmeans_pca'], df1['경제활동상태'])\n",
    "cols = ct.columns.tolist()\n",
    "cols = [ 0, 1, 2, 3]\n",
    "ct = ct[cols]\n",
    "\n",
    "totals = []\n",
    "for i in range(len(ct)):\n",
    "    totals.append(sum(ct.iloc[i, :]))\n",
    "\n",
    "cl = ct.columns.to_list()\n",
    "\n",
    "color_list = ['MistyRose','Salmon','Crimson', 'darkred']\n",
    "\n",
    "for i in range(len(cl)):\n",
    "    ct[cl[i]] = ct[cl[i]] / totals\n",
    "    \n",
    "fig = ct.plot.bar(stacked=True, figsize=(10,6), color=color_list)\n",
    "plt.xticks(fontsize=12, rotation=360)\n",
    "plt.yticks(fontsize=12)\n",
    "plt.xlabel('ClusterKmeans_pca', fontsize=12)\n",
    "plt.title('차원축소 경제활동상태', fontsize=16)\n",
    "plt.legend(fontsize='x-large')\n",
    "plt.show()"
   ]
  },
  {
   "cell_type": "markdown",
   "metadata": {},
   "source": [
    "군집분석 - 군집별로 남녀 비율 대체로 비슷하나, 2번 군집은 여성의 비율이 훨씬 높다.\n",
    "- 1 : 무응답\n",
    "- 2 : 있음 / 여성 비율 높음 / 기초생활수급경험있음 비율 높음 / 실업자 비율이 가장 높음\n",
    "- 3 : 없음\n",
    "- 4 : 비해당(청소년/소아) + 없음(일부)\n",
    "    \n",
    "차원축소 군집분석 - 군집별로 남녀 비율 대체로 비슷함\n",
    "- 1 : 없음 + 있음(일부)\n",
    "- 2 : 무응답\n",
    "- 3 : 비해당(청소년/소아) + 없음(일부)\n",
    "- 4 : 무응답 + 없음(일부) / 기초생활수급경험있음 비율 높음"
   ]
  },
  {
   "cell_type": "markdown",
   "metadata": {},
   "source": [
    "#### 건강상태 (주관적건강상태, 고혈압진단여부, 이상지지혈증진단여부, 당뇨병진단여부)"
   ]
  },
  {
   "cell_type": "markdown",
   "metadata": {},
   "source": [
    "##### 주관적건강상태\n",
    "- 0: 나쁨\n",
    "- 1: 매우나쁨\n",
    "- 2: 매우좋음\n",
    "- 3: 무응답\n",
    "- 4: 보통\n",
    "- 5: 좋음"
   ]
  },
  {
   "cell_type": "code",
   "execution_count": 84,
   "metadata": {},
   "outputs": [
    {
     "data": {
      "image/png": "[encoded data removed]",
      "text/plain": [
       "<Figure size 720x432 with 1 Axes>"
      ]
     },
     "metadata": {
      "image/png": {
       "height": 394,
       "width": 595
      },
      "needs_background": "light"
     },
     "output_type": "display_data"
    }
   ],
   "source": [
    "ct = pd.crosstab(df1['ClusterKmeans'], df1['주관적건강상태'])\n",
    "cols = ct.columns.tolist()\n",
    "cols = [ 0, 1, 2, 3, 4, 5]\n",
    "ct = ct[cols]\n",
    "\n",
    "totals = []\n",
    "for i in range(len(ct)):\n",
    "    totals.append(sum(ct.iloc[i, :]))\n",
    "\n",
    "cl = ct.columns.to_list()\n",
    "\n",
    "color_list = ['MistyRose','lightsalmon', 'Salmon','tomato', 'Crimson', 'darkred']\n",
    "\n",
    "for i in range(len(cl)):\n",
    "    ct[cl[i]] = ct[cl[i]] / totals\n",
    "    \n",
    "fig = ct.plot.bar(stacked=True, figsize=(10,6), color=color_list)\n",
    "plt.xticks(fontsize=12, rotation=360)\n",
    "plt.yticks(fontsize=12)\n",
    "plt.xlabel('ClusterKmeans', fontsize=12)\n",
    "plt.title('군집분석 주관적건강상태', fontsize=16)\n",
    "plt.legend(fontsize='x-large')\n",
    "plt.show()"
   ]
  },
  {
   "cell_type": "markdown",
   "metadata": {},
   "source": [
    "#### 2번 집단의 경우, 주관적 건강상태를 '나쁨', '매우나쁨'으로 선택한 비율이 가장 높다."
   ]
  },
  {
   "cell_type": "markdown",
   "metadata": {},
   "source": [
    "##### 고혈압진단여부\n",
    "- 0: 무응답\n",
    "- 1: 비해당(청소년/소아)\n",
    "- 2: 없음\n",
    "- 3: 있음"
   ]
  },
  {
   "cell_type": "code",
   "execution_count": 85,
   "metadata": {},
   "outputs": [
    {
     "data": {
      "image/png": "[encoded data removed]",
      "text/plain": [
       "<Figure size 720x432 with 1 Axes>"
      ]
     },
     "metadata": {
      "image/png": {
       "height": 394,
       "width": 595
      },
      "needs_background": "light"
     },
     "output_type": "display_data"
    }
   ],
   "source": [
    "ct = pd.crosstab(df1['ClusterKmeans'], df1['고혈압진단여부'])\n",
    "cols = ct.columns.tolist()\n",
    "cols = [ 0, 1, 2, 3]\n",
    "ct = ct[cols]\n",
    "\n",
    "totals = []\n",
    "for i in range(len(ct)):\n",
    "    totals.append(sum(ct.iloc[i, :]))\n",
    "\n",
    "cl = ct.columns.to_list()\n",
    "\n",
    "color_list = ['MistyRose','Salmon','Crimson', 'darkred']\n",
    "\n",
    "for i in range(len(cl)):\n",
    "    ct[cl[i]] = ct[cl[i]] / totals\n",
    "    \n",
    "fig = ct.plot.bar(stacked=True, figsize=(10,6), color=color_list)\n",
    "plt.xticks(fontsize=12, rotation=360)\n",
    "plt.yticks(fontsize=12)\n",
    "plt.xlabel('ClusterKmeans', fontsize=12)\n",
    "plt.title('군집분석 고혈압진단여부', fontsize=16)\n",
    "plt.legend(fontsize='x-large')\n",
    "plt.show()"
   ]
  },
  {
   "cell_type": "markdown",
   "metadata": {},
   "source": [
    "##### 당뇨병진단여부\n",
    "- 0: 무응답\n",
    "- 1: 없음\n",
    "- 2: 있음"
   ]
  },
  {
   "cell_type": "code",
   "execution_count": 86,
   "metadata": {},
   "outputs": [
    {
     "data": {
      "image/png": "[encoded data removed]",
      "text/plain": [
       "<Figure size 720x432 with 1 Axes>"
      ]
     },
     "metadata": {
      "image/png": {
       "height": 394,
       "width": 595
      },
      "needs_background": "light"
     },
     "output_type": "display_data"
    }
   ],
   "source": [
    "ct = pd.crosstab(df1['ClusterKmeans'], df1['당뇨병진단여부'])\n",
    "cols = ct.columns.tolist()\n",
    "cols = [ 0, 1, 2]\n",
    "ct = ct[cols]\n",
    "\n",
    "totals = []\n",
    "for i in range(len(ct)):\n",
    "    totals.append(sum(ct.iloc[i, :]))\n",
    "\n",
    "cl = ct.columns.to_list()\n",
    "\n",
    "color_list = ['MistyRose','Salmon','Crimson']\n",
    "\n",
    "for i in range(len(cl)):\n",
    "    ct[cl[i]] = ct[cl[i]] / totals\n",
    "    \n",
    "fig = ct.plot.bar(stacked=True, figsize=(10,6), color=color_list)\n",
    "plt.xticks(fontsize=12, rotation=360)\n",
    "plt.yticks(fontsize=12)\n",
    "plt.xlabel('ClusterKmeans', fontsize=12)\n",
    "plt.title('군집분석 당뇨병진단여부', fontsize=16)\n",
    "plt.legend(fontsize='x-large')\n",
    "plt.show()"
   ]
  },
  {
   "cell_type": "markdown",
   "metadata": {},
   "source": [
    "#### 2번 집단의 경우, 건강상태에 대해 부정적으로 평가할 뿐 아니라 실제로 건강상태가 나쁜 경우가 많다는 것을 확인할 수 있다."
   ]
  },
  {
   "cell_type": "markdown",
   "metadata": {},
   "source": [
    "##### 결혼상태\n",
    "- 0: 동거\n",
    "- 1: 모름\n",
    "- 2: 별거\n",
    "- 3: 사별\n",
    "- 4: 응답거부\n",
    "- 5: 이혼"
   ]
  },
  {
   "cell_type": "code",
   "execution_count": 87,
   "metadata": {},
   "outputs": [
    {
     "data": {
      "image/png": "[encoded data removed]",
      "text/plain": [
       "<Figure size 720x432 with 1 Axes>"
      ]
     },
     "metadata": {
      "image/png": {
       "height": 394,
       "width": 595
      },
      "needs_background": "light"
     },
     "output_type": "display_data"
    }
   ],
   "source": [
    "ct = pd.crosstab(df1['ClusterKmeans'], df1['결혼상태'])\n",
    "cols = ct.columns.tolist()\n",
    "cols = [ 0, 1, 2, 3, 4, 5]\n",
    "ct = ct[cols]\n",
    "\n",
    "totals = []\n",
    "for i in range(len(ct)):\n",
    "    totals.append(sum(ct.iloc[i, :]))\n",
    "\n",
    "cl = ct.columns.to_list()\n",
    "\n",
    "color_list = ['MistyRose','lightsalmon', 'Salmon','tomato', 'Crimson', 'darkred']\n",
    "\n",
    "for i in range(len(cl)):\n",
    "    ct[cl[i]] = ct[cl[i]] / totals\n",
    "    \n",
    "fig = ct.plot.bar(stacked=True, figsize=(10,6), color=color_list)\n",
    "plt.xticks(fontsize=12, rotation=360)\n",
    "plt.yticks(fontsize=12)\n",
    "plt.xlabel('ClusterKmeans', fontsize=12)\n",
    "plt.title('군집분석 결혼상태', fontsize=16)\n",
    "plt.legend(fontsize='x-large')\n",
    "plt.show()"
   ]
  },
  {
   "cell_type": "markdown",
   "metadata": {},
   "source": [
    "#### 우울증 진단을 받은 집단의 경우, '사별', '이혼' 비율이 높게 나타난다."
   ]
  },
  {
   "cell_type": "markdown",
   "metadata": {},
   "source": [
    "#### 차원축소를 이용한 군집분석보다 차원축소를 하지 않은 군집분석으로 분류된 집단의 특성이 더 명확하게 드러난다."
   ]
  },
  {
   "cell_type": "markdown",
   "metadata": {},
   "source": [
    "## 4. 개선안 도출"
   ]
  },
  {
   "cell_type": "code",
   "execution_count": 88,
   "metadata": {},
   "outputs": [
    {
     "data": {
      "text/html": [
       "<div>\n",
       "<style scoped>\n",
       "    .dataframe tbody tr th:only-of-type {\n",
       "        vertical-align: middle;\n",
       "    }\n",
       "\n",
       "    .dataframe tbody tr th {\n",
       "        vertical-align: top;\n",
       "    }\n",
       "\n",
       "    .dataframe thead th {\n",
       "        text-align: right;\n",
       "    }\n",
       "</style>\n",
       "<table border=\"1\" class=\"dataframe\">\n",
       "  <thead>\n",
       "    <tr style=\"text-align: right;\">\n",
       "      <th></th>\n",
       "      <th>age</th>\n",
       "      <th>성별</th>\n",
       "      <th>우울증진단여부</th>\n",
       "      <th>월평균가구총소득</th>\n",
       "      <th>하루평균수면시간</th>\n",
       "    </tr>\n",
       "    <tr>\n",
       "      <th>ClusterKmeans</th>\n",
       "      <th></th>\n",
       "      <th></th>\n",
       "      <th></th>\n",
       "      <th></th>\n",
       "      <th></th>\n",
       "    </tr>\n",
       "  </thead>\n",
       "  <tbody>\n",
       "    <tr>\n",
       "      <th>1</th>\n",
       "      <td>46.566449</td>\n",
       "      <td>0.484749</td>\n",
       "      <td>0.002179</td>\n",
       "      <td>364.167351</td>\n",
       "      <td>6.766586</td>\n",
       "    </tr>\n",
       "    <tr>\n",
       "      <th>2</th>\n",
       "      <td>56.820000</td>\n",
       "      <td>0.800000</td>\n",
       "      <td>3.000000</td>\n",
       "      <td>275.484132</td>\n",
       "      <td>6.684199</td>\n",
       "    </tr>\n",
       "    <tr>\n",
       "      <th>3</th>\n",
       "      <td>12.840663</td>\n",
       "      <td>0.475847</td>\n",
       "      <td>1.046143</td>\n",
       "      <td>431.099184</td>\n",
       "      <td>6.893146</td>\n",
       "    </tr>\n",
       "    <tr>\n",
       "      <th>4</th>\n",
       "      <td>51.013472</td>\n",
       "      <td>0.558342</td>\n",
       "      <td>1.994819</td>\n",
       "      <td>369.241650</td>\n",
       "      <td>6.745326</td>\n",
       "    </tr>\n",
       "  </tbody>\n",
       "</table>\n",
       "</div>"
      ],
      "text/plain": [
       "                     age        성별   우울증진단여부    월평균가구총소득  하루평균수면시간\n",
       "ClusterKmeans                                                     \n",
       "1              46.566449  0.484749  0.002179  364.167351  6.766586\n",
       "2              56.820000  0.800000  3.000000  275.484132  6.684199\n",
       "3              12.840663  0.475847  1.046143  431.099184  6.893146\n",
       "4              51.013472  0.558342  1.994819  369.241650  6.745326"
      ]
     },
     "execution_count": 88,
     "metadata": {},
     "output_type": "execute_result"
    }
   ],
   "source": [
    "df1_k = pd.pivot_table(df1, index = 'ClusterKmeans', values = ['age', '성별', '월평균가구총소득', \n",
    "                                                               '우울증진단여부', '하루평균수면시간'], aggfunc=np.mean)\n",
    "df1_k"
   ]
  },
  {
   "cell_type": "markdown",
   "metadata": {},
   "source": [
    "군집분석을 통해 우울증진단을 받은 집단의 성별, 연령, 경제력, 건강상태 특성을 확인할 수 있었다."
   ]
  },
  {
   "cell_type": "markdown",
   "metadata": {},
   "source": [
    "분석결과, 우울증진단을 받은 집단의 경우 여성의 비율이 훨씬 높았고, 연령대가 높다. 또한, 실업자 비율이 가장 높으며 집단의 월평균가구총소득 평균이 다른 집단에 비하여 낮다. 건강 관련 변수를 확인했을 때, 자신의 건강을 부정적으로 평가하는 비율이 높을뿐 아니라 고혈압과 당뇨병 진단을 받은 비율이 높은 것으로 보아 실제 건강상태도 좋지 않은 경우가 많음을 알 수 있다."
   ]
  },
  {
   "cell_type": "markdown",
   "metadata": {},
   "source": [
    "1) 우울증 진단을 받은 집단의 우울증 치료 여부를 확인해본 결과, 우울증치료 경험이 있다고 응답한 비율보다 없다고 응답한 비율이 더 높았다. 또한, 1년간 정신문제 상담을 받았다고 응답한 비율보다 받지 않았다고 응답한 비율이 더 높았다. 이는 우울증 진단을 받았음에도 불구하고 사후 조치를 취하지 않는 경우가 더 많다는 것을 의미한다. 소득이 낮고 실업자비율이 높다는 집단의 특성을 고려해볼 때, 정신과 치료 비용에 대한 문제도 작용했을 것이라 추측할 수 있다. 따라서 우울증 환자 중 기초생활수급자나 실업자에 대한 정신과 치료비 지원이 필요하다고 판단된다."
   ]
  },
  {
   "cell_type": "markdown",
   "metadata": {},
   "source": [
    "2) 우울증 환자 중, 고혈압, 당뇨병 등의 만성질환을 앓고 있는 비율이 높게 나타난다. 또한, 자신의 건강상태를 부정적으로 평가하는 비율도 높게 나타난다. 이를 종합해보면, 만성질환을 앓고 있는 중장년층 환자의 건강에 대한 염려나 스트레스가 우울증 발병의 원인이 되었을 가능성을 추측해볼 수 있다. 따라서, 고혈압, 당뇨병 진단을 받은 중장년층 환자들에게 정신 건강을 함께 관리할 수 있도록 돕는 의료 서비스를 제공하는 방안을 생각해볼 수 있다."
   ]
  },
  {
   "cell_type": "markdown",
   "metadata": {},
   "source": [
    "3) 우울증진단을 받은 집단의 경우, 다른 집단에 비하여 연령대가 높고, '사별', '이혼' 비율이 높게 나타난다. 외로움이 우울증 발병의 주된 원인으로 판단되며, 따라서 자원봉사, 종교활동, 평생교육 등 다양한 사회활동에 적극적으로 참여할 수 있도록 유도하는 프로그램이 필요하다고 판단된다."
   ]
  }
 ],
 "metadata": {
  "kernelspec": {
   "display_name": "Python 3",
   "language": "python",
   "name": "python3"
  },
  "language_info": {
   "codemirror_mode": {
    "name": "ipython",
    "version": 3
   },
   "file_extension": ".py",
   "mimetype": "text/x-python",
   "name": "python",
   "nbconvert_exporter": "python",
   "pygments_lexer": "ipython3",
   "version": "3.7.4"
  },
  "toc": {
   "base_numbering": 1,
   "nav_menu": {},
   "number_sections": true,
   "sideBar": true,
   "skip_h1_title": false,
   "title_cell": "Table of Contents",
   "title_sidebar": "Contents",
   "toc_cell": false,
   "toc_position": {},
   "toc_section_display": true,
   "toc_window_display": false
  }
 },
 "nbformat": 4,
 "nbformat_minor": 4
}
